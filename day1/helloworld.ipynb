{
 "cells": [
  {
   "cell_type": "code",
   "execution_count": 3,
   "id": "fc77ba8e",
   "metadata": {},
   "outputs": [
    {
     "name": "stdout",
     "output_type": "stream",
     "text": [
      "hello world\n"
     ]
    }
   ],
   "source": [
    "print('hello world')  # shift + enter 快捷键运行"
   ]
  },
  {
   "cell_type": "code",
   "execution_count": 4,
   "id": "b2fdc43e",
   "metadata": {},
   "outputs": [
    {
     "name": "stdout",
     "output_type": "stream",
     "text": [
      "ssssss\n"
     ]
    }
   ],
   "source": [
    "print('ssssss')"
   ]
  },
  {
   "cell_type": "code",
   "execution_count": 5,
   "id": "8a8f3ad5",
   "metadata": {},
   "outputs": [],
   "source": [
    "a=1\n",
    "b=2\n",
    "c=a+b"
   ]
  },
  {
   "cell_type": "code",
   "execution_count": 9,
   "id": "1501362c",
   "metadata": {},
   "outputs": [
    {
     "data": {
      "text/plain": [
       "3"
      ]
     },
     "execution_count": 9,
     "metadata": {},
     "output_type": "execute_result"
    }
   ],
   "source": [
    "c"
   ]
  },
  {
   "cell_type": "code",
   "execution_count": 11,
   "id": "ec3c6788",
   "metadata": {
    "scrolled": true
   },
   "outputs": [
    {
     "name": "stdout",
     "output_type": "stream",
     "text": [
      "3\n"
     ]
    }
   ],
   "source": [
    "print(c)"
   ]
  },
  {
   "cell_type": "code",
   "execution_count": 15,
   "id": "c554c2f1",
   "metadata": {},
   "outputs": [],
   "source": [
    "# 按esc 或者 鼠标 点击到 cell 之外 光标不闪 -》 进入到命令模式 \n",
    "# enter 或者 鼠标点击 ——》进入编辑模式   \n",
    "# 常用快捷键 \n",
    "#  执行代码：shift + enter\n",
    "#                 命令模式：\n",
    "#                 A，在当前cell的上面添加cell\n",
    "#                 B，在当前cell的下面添加cell\n",
    "#                 双击D：删除当前cell\n",
    "#                 编辑模式：\n",
    "#                 多光标操作：Ctrl键点击鼠标（Mac:CMD+点击鼠标）\n",
    "#                 回退：Ctrl+Z（Mac:CMD+Z）\n",
    "#                 补全代码：变量、方法后跟Tab键\n",
    "#                 为一行或多行代码添加/取消注释：Ctrl+/（Mac:CMD+/）"
   ]
  },
  {
   "cell_type": "code",
   "execution_count": 16,
   "id": "daa70ba9",
   "metadata": {},
   "outputs": [],
   "source": [
    "import matplotlib"
   ]
  },
  {
   "cell_type": "markdown",
   "id": "8e0b92a3",
   "metadata": {},
   "source": [
    "### markdonw   \n",
    "使用shift + enter"
   ]
  },
  {
   "cell_type": "code",
   "execution_count": null,
   "id": "a2d44be6",
   "metadata": {},
   "outputs": [],
   "source": []
  }
 ],
 "metadata": {
  "kernelspec": {
   "display_name": "Python 3 (ipykernel)",
   "language": "python",
   "name": "python3"
  },
  "language_info": {
   "codemirror_mode": {
    "name": "ipython",
    "version": 3
   },
   "file_extension": ".py",
   "mimetype": "text/x-python",
   "name": "python",
   "nbconvert_exporter": "python",
   "pygments_lexer": "ipython3",
   "version": "3.8.13"
  }
 },
 "nbformat": 4,
 "nbformat_minor": 5
}
