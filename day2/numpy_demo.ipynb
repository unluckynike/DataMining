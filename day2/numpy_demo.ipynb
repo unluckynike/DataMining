{
 "cells": [
  {
   "cell_type": "code",
   "execution_count": 1,
   "id": "5389e87b",
   "metadata": {},
   "outputs": [],
   "source": [
    "import numpy as np"
   ]
  },
  {
   "cell_type": "code",
   "execution_count": 26,
   "id": "966d755d",
   "metadata": {},
   "outputs": [],
   "source": [
    "# 分数数据\n",
    "socre=np.array([[80, 89, 86, 67, 79], \n",
    "[78, 97, 89, 67, 81],\n",
    "[90, 94, 78, 67, 74],\n",
    "[91, 91, 90, 67, 69],\n",
    "[76, 87, 75, 67, 86],\n",
    "[70, 79, 84, 67, 84],\n",
    "[94, 92, 93, 67, 64],\n",
    "[86, 85, 83, 67, 80]])"
   ]
  },
  {
   "cell_type": "code",
   "execution_count": 3,
   "id": "ddbcccb8",
   "metadata": {},
   "outputs": [
    {
     "data": {
      "text/plain": [
       "array([[80, 89, 86, 67, 79],\n",
       "       [78, 97, 89, 67, 81],\n",
       "       [90, 94, 78, 67, 74],\n",
       "       [91, 91, 90, 67, 69],\n",
       "       [76, 87, 75, 67, 86],\n",
       "       [70, 79, 84, 67, 84],\n",
       "       [94, 92, 93, 67, 64],\n",
       "       [86, 85, 83, 67, 80]])"
      ]
     },
     "execution_count": 3,
     "metadata": {},
     "output_type": "execute_result"
    }
   ],
   "source": [
    "socre"
   ]
  },
  {
   "cell_type": "code",
   "execution_count": 4,
   "id": "1379ee8b",
   "metadata": {},
   "outputs": [
    {
     "data": {
      "text/plain": [
       "numpy.ndarray"
      ]
     },
     "execution_count": 4,
     "metadata": {},
     "output_type": "execute_result"
    }
   ],
   "source": [
    "type(socre) # 查看数据类型"
   ]
  },
  {
   "cell_type": "markdown",
   "id": "e9a2ba02",
   "metadata": {},
   "source": [
    "#### ndarray与Python原生list运算效率对比\n",
    "  numpy专门对ndarray的操作和运算进行了设计，所以数组的存储效率和输入输出性能远远优于python中的嵌套列表，数组越大，numpy的优势越明显\n",
    "##### ndarray 优势原因\n",
    " - 存储风格   ndarray - 相同类型 - 通用性不强，  list - 不同类型 - 通用性很强\n",
    " - 并行化运算  ndarray支持向量化运算\n",
    " - 底层语言  C语言，内部解除了GIL"
   ]
  },
  {
   "cell_type": "code",
   "execution_count": 12,
   "id": "f9f2feb6",
   "metadata": {},
   "outputs": [
    {
     "name": "stdout",
     "output_type": "stream",
     "text": [
      "a len:  100000000\n",
      "a time : 1.7814080715179443, b time : 0.14223599433898926\n"
     ]
    }
   ],
   "source": [
    "import random\n",
    "import time\n",
    "import numpy as np\n",
    "\n",
    "a=[] \n",
    "\n",
    "for i in range(100000000): \n",
    "  a.append(random.random()) # 随机生成一亿个数\n",
    "print('a len: ',len(a))\n",
    "\n",
    "t1=time.time()\n",
    "sum1=sum(a)\n",
    "t2=time.time()\n",
    "time_a=t2-t1 #  计算运算时间\n",
    "\n",
    "b=np.array(a) # ndarray的计算速度要快很多，节约时间\n",
    "t3=time.time()\n",
    "sum2=np.sum(b)\n",
    "t4=time.time()\n",
    "time_b=t4-t3\n",
    "\n",
    "print(f'a time : {time_a}, b time : {time_b}')"
   ]
  },
  {
   "cell_type": "markdown",
   "id": "331e7f50",
   "metadata": {},
   "source": [
    "#### ndarray的属性\n",
    "  - shape  数组维度的元组\n",
    "     - ndim 数组维度\n",
    "     - size 数组中的元素数量\n",
    "  - dtype  数组元素的类型\n",
    "     - itemsize 一个数组元素的长度（字节）"
   ]
  },
  {
   "cell_type": "code",
   "execution_count": 14,
   "id": "735ca047",
   "metadata": {},
   "outputs": [
    {
     "data": {
      "text/plain": [
       "(8, 5)"
      ]
     },
     "execution_count": 14,
     "metadata": {},
     "output_type": "execute_result"
    }
   ],
   "source": [
    "socre.shape # 8行5列"
   ]
  },
  {
   "cell_type": "code",
   "execution_count": 15,
   "id": "ab2d2ca7",
   "metadata": {},
   "outputs": [
    {
     "data": {
      "text/plain": [
       "2"
      ]
     },
     "execution_count": 15,
     "metadata": {},
     "output_type": "execute_result"
    }
   ],
   "source": [
    "socre.ndim"
   ]
  },
  {
   "cell_type": "code",
   "execution_count": 16,
   "id": "b9a5d5eb",
   "metadata": {},
   "outputs": [
    {
     "data": {
      "text/plain": [
       "40"
      ]
     },
     "execution_count": 16,
     "metadata": {},
     "output_type": "execute_result"
    }
   ],
   "source": [
    "socre.size"
   ]
  },
  {
   "cell_type": "code",
   "execution_count": 17,
   "id": "21a01c5c",
   "metadata": {},
   "outputs": [
    {
     "data": {
      "text/plain": [
       "dtype('int64')"
      ]
     },
     "execution_count": 17,
     "metadata": {},
     "output_type": "execute_result"
    }
   ],
   "source": [
    "socre.dtype # 在创建ndarray的时候，如果没有指定类型  默认整数 int64, 浮点数 float64"
   ]
  },
  {
   "cell_type": "code",
   "execution_count": 18,
   "id": "d815f326",
   "metadata": {},
   "outputs": [
    {
     "data": {
      "text/plain": [
       "8"
      ]
     },
     "execution_count": 18,
     "metadata": {},
     "output_type": "execute_result"
    }
   ],
   "source": [
    "socre.itemsize"
   ]
  },
  {
   "cell_type": "markdown",
   "id": "129c0ea4",
   "metadata": {},
   "source": [
    "#### ndarray的形状"
   ]
  },
  {
   "cell_type": "code",
   "execution_count": 20,
   "id": "2b28ebf2",
   "metadata": {},
   "outputs": [],
   "source": [
    "a = np.array([[1,2,3],[4,5,6]])\n",
    "b = np.array([1,2,3,4])\n",
    "c = np.array([[[1,2,3],[4,5,6]],[[1,2,3],[4,5,6]]])"
   ]
  },
  {
   "cell_type": "code",
   "execution_count": 21,
   "id": "8ce6cd59",
   "metadata": {},
   "outputs": [
    {
     "data": {
      "text/plain": [
       "array([[1, 2, 3],\n",
       "       [4, 5, 6]])"
      ]
     },
     "execution_count": 21,
     "metadata": {},
     "output_type": "execute_result"
    }
   ],
   "source": [
    "a #（2，3）  二维 两行三列"
   ]
  },
  {
   "cell_type": "code",
   "execution_count": 22,
   "id": "9be75717",
   "metadata": {},
   "outputs": [
    {
     "data": {
      "text/plain": [
       "array([1, 2, 3, 4])"
      ]
     },
     "execution_count": 22,
     "metadata": {},
     "output_type": "execute_result"
    }
   ],
   "source": [
    "b #（4，） 一维"
   ]
  },
  {
   "cell_type": "code",
   "execution_count": 23,
   "id": "96df49eb",
   "metadata": {},
   "outputs": [
    {
     "data": {
      "text/plain": [
       "array([[[1, 2, 3],\n",
       "        [4, 5, 6]],\n",
       "\n",
       "       [[1, 2, 3],\n",
       "        [4, 5, 6]]])"
      ]
     },
     "execution_count": 23,
     "metadata": {},
     "output_type": "execute_result"
    }
   ],
   "source": [
    "c #（2，2，3）  三个中括号 三维 "
   ]
  },
  {
   "cell_type": "code",
   "execution_count": 24,
   "id": "f11ea462",
   "metadata": {},
   "outputs": [
    {
     "data": {
      "text/plain": [
       "(2, 2, 3)"
      ]
     },
     "execution_count": 24,
     "metadata": {},
     "output_type": "execute_result"
    }
   ],
   "source": [
    "a.shape"
   ]
  },
  {
   "cell_type": "code",
   "execution_count": 25,
   "id": "c1cebfa2",
   "metadata": {},
   "outputs": [
    {
     "data": {
      "text/plain": [
       "(4,)"
      ]
     },
     "execution_count": 25,
     "metadata": {},
     "output_type": "execute_result"
    }
   ],
   "source": [
    "b.shape"
   ]
  },
  {
   "cell_type": "code",
   "execution_count": 26,
   "id": "f3c043dc",
   "metadata": {},
   "outputs": [
    {
     "data": {
      "text/plain": [
       "(2, 2, 3)"
      ]
     },
     "execution_count": 26,
     "metadata": {},
     "output_type": "execute_result"
    }
   ],
   "source": [
    "c.shape"
   ]
  },
  {
   "cell_type": "markdown",
   "id": "eaa15b27",
   "metadata": {},
   "source": [
    "#### ndarray 类型"
   ]
  },
  {
   "cell_type": "code",
   "execution_count": 7,
   "id": "ebb7ae29",
   "metadata": {},
   "outputs": [],
   "source": [
    "data = np.array([1.1, 2.2, 3.3]) #  若不指定 默认float64"
   ]
  },
  {
   "cell_type": "code",
   "execution_count": 8,
   "id": "aa7fb68d",
   "metadata": {},
   "outputs": [
    {
     "data": {
      "text/plain": [
       "array([1.1, 2.2, 3.3])"
      ]
     },
     "execution_count": 8,
     "metadata": {},
     "output_type": "execute_result"
    }
   ],
   "source": [
    "data"
   ]
  },
  {
   "cell_type": "code",
   "execution_count": 9,
   "id": "6a0a77c9",
   "metadata": {},
   "outputs": [
    {
     "data": {
      "text/plain": [
       "dtype('float64')"
      ]
     },
     "execution_count": 9,
     "metadata": {},
     "output_type": "execute_result"
    }
   ],
   "source": [
    "data.dtype"
   ]
  },
  {
   "cell_type": "code",
   "execution_count": 5,
   "id": "49e622cc",
   "metadata": {},
   "outputs": [
    {
     "data": {
      "text/plain": [
       "array([1.1, 2.2, 3.3], dtype=float32)"
      ]
     },
     "execution_count": 5,
     "metadata": {},
     "output_type": "execute_result"
    }
   ],
   "source": [
    "# 创建指定类型的\n",
    "np.array([1.1,2.2,3.3],dtype=\"float32\")"
   ]
  },
  {
   "cell_type": "code",
   "execution_count": 4,
   "id": "d728e32d",
   "metadata": {},
   "outputs": [
    {
     "data": {
      "text/plain": [
       "array([1.1, 2.2, 3.3], dtype=float32)"
      ]
     },
     "execution_count": 4,
     "metadata": {},
     "output_type": "execute_result"
    }
   ],
   "source": [
    "np.array([1.1,2.2,3.3],dtype=np.float32)"
   ]
  },
  {
   "cell_type": "markdown",
   "id": "1761a827",
   "metadata": {},
   "source": [
    "#### 基本操作\n",
    "   - 生成0和1的数组\n",
    "      1. np.zeros(shape)\n",
    "      2. np.ones(shape\n",
    "   - 从现有的数组中生成\n",
    "      1. np.array()， np.copy() 深拷贝\n",
    "      2. np.asarray() 浅拷贝\n",
    "   - 生存固定范围的数组\n",
    "      1. np.linspace(，，，) 左闭右闭 等距离  前两个参数是范围 第三个是数量\n",
    "      2. np.arange() 左闭右开 第三个参数是步长\n",
    "   - 生存随机数组"
   ]
  },
  {
   "cell_type": "markdown",
   "id": "99a3da54",
   "metadata": {},
   "source": [
    "#### 生成0和1的数组"
   ]
  },
  {
   "cell_type": "code",
   "execution_count": 16,
   "id": "a18a7801",
   "metadata": {},
   "outputs": [
    {
     "data": {
      "text/plain": [
       "array([[0., 0., 0., 0.],\n",
       "       [0., 0., 0., 0.],\n",
       "       [0., 0., 0., 0.]], dtype=float32)"
      ]
     },
     "execution_count": 16,
     "metadata": {},
     "output_type": "execute_result"
    }
   ],
   "source": [
    "np.zeros(shape=(3,4),dtype='float32') # 全零数组 可指定类型"
   ]
  },
  {
   "cell_type": "code",
   "execution_count": 17,
   "id": "fb69adc6",
   "metadata": {},
   "outputs": [
    {
     "data": {
      "text/plain": [
       "dtype('float64')"
      ]
     },
     "execution_count": 17,
     "metadata": {},
     "output_type": "execute_result"
    }
   ],
   "source": [
    "np.zeros(shape=(2,2)).dtype"
   ]
  },
  {
   "cell_type": "code",
   "execution_count": 24,
   "id": "b320565a",
   "metadata": {},
   "outputs": [
    {
     "data": {
      "text/plain": [
       "array([[1., 1., 1., 1., 1.],\n",
       "       [1., 1., 1., 1., 1.],\n",
       "       [1., 1., 1., 1., 1.],\n",
       "       [1., 1., 1., 1., 1.],\n",
       "       [1., 1., 1., 1., 1.]])"
      ]
     },
     "execution_count": 24,
     "metadata": {},
     "output_type": "execute_result"
    }
   ],
   "source": [
    "np.ones(shape=(5,5)) # 全一数组 "
   ]
  },
  {
   "cell_type": "code",
   "execution_count": 23,
   "id": "2e91b82f",
   "metadata": {},
   "outputs": [
    {
     "data": {
      "text/plain": [
       "dtype('float64')"
      ]
     },
     "execution_count": 23,
     "metadata": {},
     "output_type": "execute_result"
    }
   ],
   "source": [
    "(np.ones(shape=(2,2))).dtype"
   ]
  },
  {
   "cell_type": "markdown",
   "id": "9ba95749",
   "metadata": {},
   "source": [
    "#### 从现有的数组中生成"
   ]
  },
  {
   "cell_type": "code",
   "execution_count": 27,
   "id": "bc1318c6",
   "metadata": {},
   "outputs": [
    {
     "data": {
      "text/plain": [
       "array([[80, 89, 86, 67, 79],\n",
       "       [78, 97, 89, 67, 81],\n",
       "       [90, 94, 78, 67, 74],\n",
       "       [91, 91, 90, 67, 69],\n",
       "       [76, 87, 75, 67, 86],\n",
       "       [70, 79, 84, 67, 84],\n",
       "       [94, 92, 93, 67, 64],\n",
       "       [86, 85, 83, 67, 80]])"
      ]
     },
     "execution_count": 27,
     "metadata": {},
     "output_type": "execute_result"
    }
   ],
   "source": [
    "socre # 前面的分数数据"
   ]
  },
  {
   "cell_type": "code",
   "execution_count": 28,
   "id": "1fa279cf",
   "metadata": {},
   "outputs": [],
   "source": [
    "data1=np.array(socre)"
   ]
  },
  {
   "cell_type": "code",
   "execution_count": 29,
   "id": "a4a4cd9e",
   "metadata": {},
   "outputs": [
    {
     "data": {
      "text/plain": [
       "array([[80, 89, 86, 67, 79],\n",
       "       [78, 97, 89, 67, 81],\n",
       "       [90, 94, 78, 67, 74],\n",
       "       [91, 91, 90, 67, 69],\n",
       "       [76, 87, 75, 67, 86],\n",
       "       [70, 79, 84, 67, 84],\n",
       "       [94, 92, 93, 67, 64],\n",
       "       [86, 85, 83, 67, 80]])"
      ]
     },
     "execution_count": 29,
     "metadata": {},
     "output_type": "execute_result"
    }
   ],
   "source": [
    "data1 # "
   ]
  },
  {
   "cell_type": "code",
   "execution_count": 30,
   "id": "d7a3df17",
   "metadata": {},
   "outputs": [],
   "source": [
    "data2=np.asarray(socre)"
   ]
  },
  {
   "cell_type": "code",
   "execution_count": 31,
   "id": "646fc6d7",
   "metadata": {},
   "outputs": [
    {
     "data": {
      "text/plain": [
       "array([[80, 89, 86, 67, 79],\n",
       "       [78, 97, 89, 67, 81],\n",
       "       [90, 94, 78, 67, 74],\n",
       "       [91, 91, 90, 67, 69],\n",
       "       [76, 87, 75, 67, 86],\n",
       "       [70, 79, 84, 67, 84],\n",
       "       [94, 92, 93, 67, 64],\n",
       "       [86, 85, 83, 67, 80]])"
      ]
     },
     "execution_count": 31,
     "metadata": {},
     "output_type": "execute_result"
    }
   ],
   "source": [
    "data2"
   ]
  },
  {
   "cell_type": "code",
   "execution_count": 33,
   "id": "16712e16",
   "metadata": {},
   "outputs": [],
   "source": [
    "data3=np.copy(socre)"
   ]
  },
  {
   "cell_type": "code",
   "execution_count": 34,
   "id": "0e249787",
   "metadata": {},
   "outputs": [
    {
     "data": {
      "text/plain": [
       "array([[80, 89, 86, 67, 79],\n",
       "       [78, 97, 89, 67, 81],\n",
       "       [90, 94, 78, 67, 74],\n",
       "       [91, 91, 90, 67, 69],\n",
       "       [76, 87, 75, 67, 86],\n",
       "       [70, 79, 84, 67, 84],\n",
       "       [94, 92, 93, 67, 64],\n",
       "       [86, 85, 83, 67, 80]])"
      ]
     },
     "execution_count": 34,
     "metadata": {},
     "output_type": "execute_result"
    }
   ],
   "source": [
    "data3"
   ]
  },
  {
   "cell_type": "code",
   "execution_count": 37,
   "id": "c8c9195e",
   "metadata": {},
   "outputs": [],
   "source": [
    "# 改个数据 数组下标从0开始 此处改的是第四行第二列 下标为（3，1）\n",
    "socre[3,1]=9999"
   ]
  },
  {
   "cell_type": "code",
   "execution_count": 38,
   "id": "ce3e1620",
   "metadata": {},
   "outputs": [
    {
     "data": {
      "text/plain": [
       "array([[  80,   89,   86,   67,   79],\n",
       "       [  78,   97,   89,   67,   81],\n",
       "       [  90,   94,   78,   67,   74],\n",
       "       [  91, 9999,   90,   67,   69],\n",
       "       [  76,   87,   75,   67,   86],\n",
       "       [  70,   79,   84,   67,   84],\n",
       "       [  94,   92,   93,   67,   64],\n",
       "       [  86,   85,   83,   67,   80]])"
      ]
     },
     "execution_count": 38,
     "metadata": {},
     "output_type": "execute_result"
    }
   ],
   "source": [
    "socre"
   ]
  },
  {
   "cell_type": "code",
   "execution_count": 39,
   "id": "b85459ca",
   "metadata": {},
   "outputs": [
    {
     "data": {
      "text/plain": [
       "array([[80, 89, 86, 67, 79],\n",
       "       [78, 97, 89, 67, 81],\n",
       "       [90, 94, 78, 67, 74],\n",
       "       [91, 91, 90, 67, 69],\n",
       "       [76, 87, 75, 67, 86],\n",
       "       [70, 79, 84, 67, 84],\n",
       "       [94, 92, 93, 67, 64],\n",
       "       [86, 85, 83, 67, 80]])"
      ]
     },
     "execution_count": 39,
     "metadata": {},
     "output_type": "execute_result"
    }
   ],
   "source": [
    "data1 # 不受原始score影响 深拷贝"
   ]
  },
  {
   "cell_type": "code",
   "execution_count": 40,
   "id": "bc954ebe",
   "metadata": {},
   "outputs": [
    {
     "data": {
      "text/plain": [
       "array([[  80,   89,   86,   67,   79],\n",
       "       [  78,   97,   89,   67,   81],\n",
       "       [  90,   94,   78,   67,   74],\n",
       "       [  91, 9999,   90,   67,   69],\n",
       "       [  76,   87,   75,   67,   86],\n",
       "       [  70,   79,   84,   67,   84],\n",
       "       [  94,   92,   93,   67,   64],\n",
       "       [  86,   85,   83,   67,   80]])"
      ]
     },
     "execution_count": 40,
     "metadata": {},
     "output_type": "execute_result"
    }
   ],
   "source": [
    "data2  # 值改变了 浅拷贝"
   ]
  },
  {
   "cell_type": "code",
   "execution_count": 41,
   "id": "47913a24",
   "metadata": {},
   "outputs": [
    {
     "data": {
      "text/plain": [
       "array([[80, 89, 86, 67, 79],\n",
       "       [78, 97, 89, 67, 81],\n",
       "       [90, 94, 78, 67, 74],\n",
       "       [91, 91, 90, 67, 69],\n",
       "       [76, 87, 75, 67, 86],\n",
       "       [70, 79, 84, 67, 84],\n",
       "       [94, 92, 93, 67, 64],\n",
       "       [86, 85, 83, 67, 80]])"
      ]
     },
     "execution_count": 41,
     "metadata": {},
     "output_type": "execute_result"
    }
   ],
   "source": [
    "data3"
   ]
  },
  {
   "cell_type": "markdown",
   "id": "bbe16f1f",
   "metadata": {},
   "source": [
    "#### 生成固定范围数组"
   ]
  },
  {
   "cell_type": "code",
   "execution_count": 43,
   "id": "519a10c5",
   "metadata": {},
   "outputs": [
    {
     "data": {
      "text/plain": [
       "array([ 0. ,  2.5,  5. ,  7.5, 10. ])"
      ]
     },
     "execution_count": 43,
     "metadata": {},
     "output_type": "execute_result"
    }
   ],
   "source": [
    "np.linspace(0,10,5)"
   ]
  },
  {
   "cell_type": "code",
   "execution_count": 44,
   "id": "c9725ef6",
   "metadata": {},
   "outputs": [
    {
     "data": {
      "text/plain": [
       "array([0, 2, 4, 6, 8])"
      ]
     },
     "execution_count": 44,
     "metadata": {},
     "output_type": "execute_result"
    }
   ],
   "source": [
    "np.arange(0,10,2)"
   ]
  },
  {
   "cell_type": "markdown",
   "id": "6e6fe871",
   "metadata": {},
   "source": [
    "#### 生成随机数组\n",
    "   - 均匀分布\n",
    "   - 正太分布"
   ]
  },
  {
   "cell_type": "code",
   "execution_count": 73,
   "id": "66c206d4",
   "metadata": {},
   "outputs": [],
   "source": [
    " # 均匀分布 可能性相等\n",
    "data_uniform=np.random.uniform(low=-1,high=1,size=1000000) # -1到1之间生成一百万个"
   ]
  },
  {
   "cell_type": "code",
   "execution_count": 74,
   "id": "21310aa1",
   "metadata": {},
   "outputs": [
    {
     "data": {
      "text/plain": [
       "array([ 0.49723795,  0.87926182,  0.47276805, ..., -0.12438069,\n",
       "        0.7444136 ,  0.81070472])"
      ]
     },
     "execution_count": 74,
     "metadata": {},
     "output_type": "execute_result"
    }
   ],
   "source": [
    "data_uniform"
   ]
  },
  {
   "cell_type": "code",
   "execution_count": 75,
   "id": "7f54ff23",
   "metadata": {},
   "outputs": [],
   "source": [
    "import matplotlib.pyplot as plt"
   ]
  },
  {
   "cell_type": "code",
   "execution_count": 76,
   "id": "fcd262d8",
   "metadata": {},
   "outputs": [
    {
     "data": {
      "image/png": "[encoded data removed]",
      "text/plain": [
       "<Figure size 1600x640 with 1 Axes>"
      ]
     },
     "metadata": {
      "needs_background": "light"
     },
     "output_type": "display_data"
    }
   ],
   "source": [
    "# 1创建画布\n",
    "plt.figure(figsize=(20,8),dpi=80)\n",
    "# 2绘制图像\n",
    "plt.hist(data_uniform,1000) # 分一千组\n",
    "# 3显示图像\n",
    "plt.show()"
   ]
  },
  {
   "cell_type": "code",
   "execution_count": 78,
   "id": "b4b896c9",
   "metadata": {},
   "outputs": [],
   "source": [
    "# 正太分布\n",
    "data_normal=np.random.normal(loc=1.75,scale=0.1,size=1000000)"
   ]
  },
  {
   "cell_type": "code",
   "execution_count": 79,
   "id": "9ad5d789",
   "metadata": {},
   "outputs": [
    {
     "data": {
      "text/plain": [
       "array([1.78113189, 1.66230321, 1.78382505, ..., 1.80396115, 1.73056524,\n",
       "       1.78060853])"
      ]
     },
     "execution_count": 79,
     "metadata": {},
     "output_type": "execute_result"
    }
   ],
   "source": [
    "data_normal"
   ]
  },
  {
   "cell_type": "code",
   "execution_count": 82,
   "id": "8bdbd9a2",
   "metadata": {},
   "outputs": [
    {
     "data": {
      "image/png": "[encoded data removed]",
      "text/plain": [
       "<Figure size 1600x640 with 1 Axes>"
      ]
     },
     "metadata": {
      "needs_background": "light"
     },
     "output_type": "display_data"
    }
   ],
   "source": [
    "plt.figure(figsize=(20,8),dpi=80)\n",
    "plt.hist(data_normal,1000)\n",
    "plt.show()"
   ]
  },
  {
   "cell_type": "markdown",
   "id": "bed47d7d",
   "metadata": {},
   "source": [
    "#### 案例：随机生成8只股票2周的交易日涨幅数据"
   ]
  },
  {
   "cell_type": "code",
   "execution_count": 112,
   "id": "d2486f6f",
   "metadata": {},
   "outputs": [],
   "source": [
    "stock=np.random.normal(loc=0,scale=1,size=(8,10))#  八只 十天交易日"
   ]
  },
  {
   "cell_type": "code",
   "execution_count": 113,
   "id": "f966d5cc",
   "metadata": {},
   "outputs": [
    {
     "data": {
      "text/plain": [
       "array([ 0.44121016,  0.016707  , -0.43621768])"
      ]
     },
     "execution_count": 113,
     "metadata": {},
     "output_type": "execute_result"
    }
   ],
   "source": [
    "# 获取第一个股票的前3个交易日的涨跌幅数据\n",
    "stock[0,:3]"
   ]
  },
  {
   "cell_type": "code",
   "execution_count": 89,
   "id": "4f2ccf38",
   "metadata": {},
   "outputs": [],
   "source": [
    "# 获取三维数据\n",
    "a1 = np.array([ [[1,2,3],[4,5,6]], [[12,3,34],[5,6,7]]])"
   ]
  },
  {
   "cell_type": "code",
   "execution_count": 91,
   "id": "330d9b55",
   "metadata": {},
   "outputs": [
    {
     "data": {
      "text/plain": [
       "array([[[ 1,  2,  3],\n",
       "        [ 4,  5,  6]],\n",
       "\n",
       "       [[12,  3, 34],\n",
       "        [ 5,  6,  7]]])"
      ]
     },
     "execution_count": 91,
     "metadata": {},
     "output_type": "execute_result"
    }
   ],
   "source": [
    "a1"
   ]
  },
  {
   "cell_type": "code",
   "execution_count": 92,
   "id": "e3a9f596",
   "metadata": {},
   "outputs": [
    {
     "data": {
      "text/plain": [
       "(2, 2, 3)"
      ]
     },
     "execution_count": 92,
     "metadata": {},
     "output_type": "execute_result"
    }
   ],
   "source": [
    "a1.shape"
   ]
  },
  {
   "cell_type": "markdown",
   "id": "37d01203",
   "metadata": {},
   "source": [
    "#### 切片索引"
   ]
  },
  {
   "cell_type": "code",
   "execution_count": 96,
   "id": "853845d5",
   "metadata": {},
   "outputs": [
    {
     "data": {
      "text/plain": [
       "34"
      ]
     },
     "execution_count": 96,
     "metadata": {},
     "output_type": "execute_result"
    }
   ],
   "source": [
    "# 获取34\n",
    "a1[1,0,2]"
   ]
  },
  {
   "cell_type": "code",
   "execution_count": 97,
   "id": "2308a445",
   "metadata": {},
   "outputs": [
    {
     "data": {
      "text/plain": [
       "7"
      ]
     },
     "execution_count": 97,
     "metadata": {},
     "output_type": "execute_result"
    }
   ],
   "source": [
    "# 获取7\n",
    "a1[1,1,2]"
   ]
  },
  {
   "cell_type": "code",
   "execution_count": 98,
   "id": "51358e91",
   "metadata": {},
   "outputs": [
    {
     "data": {
      "text/plain": [
       "5"
      ]
     },
     "execution_count": 98,
     "metadata": {},
     "output_type": "execute_result"
    }
   ],
   "source": [
    "# 获取5\n",
    "a1[0,1,1]"
   ]
  },
  {
   "cell_type": "code",
   "execution_count": 100,
   "id": "6402a89a",
   "metadata": {},
   "outputs": [],
   "source": [
    "# 修改6为9999\n",
    "a1[1,1,1]=9999"
   ]
  },
  {
   "cell_type": "code",
   "execution_count": 103,
   "id": "884a7bca",
   "metadata": {},
   "outputs": [
    {
     "data": {
      "text/plain": [
       "array([[[   1,    2,    3],\n",
       "        [   4,    5,    6]],\n",
       "\n",
       "       [[  12,    3,   34],\n",
       "        [   5, 9999,    7]]])"
      ]
     },
     "execution_count": 103,
     "metadata": {},
     "output_type": "execute_result"
    }
   ],
   "source": [
    "a1"
   ]
  },
  {
   "cell_type": "markdown",
   "id": "1f2d2325",
   "metadata": {},
   "source": [
    "####  形状修改\n",
    "   - ndarray.reshape(shape) 返回新的ndarray，原始数据没有改变\n",
    "   - ndarray.resize(shape) 没有返回值，对原始的ndarray进行了修改\n",
    "   - ndarray.T 转置 行变成列，列变成行"
   ]
  },
  {
   "cell_type": "code",
   "execution_count": 114,
   "id": "ac425aa6",
   "metadata": {},
   "outputs": [
    {
     "data": {
      "text/plain": [
       "array([[ 0.44121016,  0.016707  , -0.43621768, -0.30498503, -1.64385194,\n",
       "        -0.1617075 ,  0.63237125,  0.3172347 , -1.74173643,  1.02578695],\n",
       "       [-0.94447204,  1.53973013, -0.65300945, -2.49706935, -1.23185386,\n",
       "        -0.47679205,  1.09518558,  0.66528255,  0.13528736, -0.11845081],\n",
       "       [ 1.0546195 , -0.71105145, -0.61892367, -0.65361758, -1.11029105,\n",
       "        -0.53806302,  0.78153419,  0.38780112,  0.43329108,  0.05296815],\n",
       "       [-0.36062366, -1.47011014, -1.45161691,  1.02010164,  0.33079879,\n",
       "         0.93672674,  0.02421668,  0.40892928, -0.36367631, -1.05898371],\n",
       "       [ 2.49074146,  1.55414937, -0.29349607,  0.30118305, -0.15016119,\n",
       "         1.22017786, -0.03562443, -0.51082391, -1.00082271, -0.85018936],\n",
       "       [ 0.04580223, -0.03139811, -2.63149322,  0.34766865,  0.47203203,\n",
       "         0.286131  ,  0.90002031, -0.40823454, -0.81896385, -0.92061451],\n",
       "       [ 0.1664089 ,  0.52298148, -0.47510602,  0.73997425, -1.01331399,\n",
       "        -0.55877478,  0.16235728,  1.06732868, -0.69616954, -1.43382657],\n",
       "       [-0.50381696, -0.50537694,  1.22332663, -1.3754674 ,  0.708971  ,\n",
       "        -0.44378791,  1.38191015,  0.50532575,  0.40297716,  1.16669619]])"
      ]
     },
     "execution_count": 114,
     "metadata": {},
     "output_type": "execute_result"
    }
   ],
   "source": [
    "stock"
   ]
  },
  {
   "cell_type": "code",
   "execution_count": 115,
   "id": "650cc4e7",
   "metadata": {},
   "outputs": [
    {
     "data": {
      "text/plain": [
       "(8, 10)"
      ]
     },
     "execution_count": 115,
     "metadata": {},
     "output_type": "execute_result"
    }
   ],
   "source": [
    "stock.shape"
   ]
  },
  {
   "cell_type": "code",
   "execution_count": 116,
   "id": "49b50ac2",
   "metadata": {},
   "outputs": [
    {
     "data": {
      "text/plain": [
       "array([[ 0.44121016,  0.016707  , -0.43621768, -0.30498503, -1.64385194,\n",
       "        -0.1617075 ,  0.63237125,  0.3172347 ],\n",
       "       [-1.74173643,  1.02578695, -0.94447204,  1.53973013, -0.65300945,\n",
       "        -2.49706935, -1.23185386, -0.47679205],\n",
       "       [ 1.09518558,  0.66528255,  0.13528736, -0.11845081,  1.0546195 ,\n",
       "        -0.71105145, -0.61892367, -0.65361758],\n",
       "       [-1.11029105, -0.53806302,  0.78153419,  0.38780112,  0.43329108,\n",
       "         0.05296815, -0.36062366, -1.47011014],\n",
       "       [-1.45161691,  1.02010164,  0.33079879,  0.93672674,  0.02421668,\n",
       "         0.40892928, -0.36367631, -1.05898371],\n",
       "       [ 2.49074146,  1.55414937, -0.29349607,  0.30118305, -0.15016119,\n",
       "         1.22017786, -0.03562443, -0.51082391],\n",
       "       [-1.00082271, -0.85018936,  0.04580223, -0.03139811, -2.63149322,\n",
       "         0.34766865,  0.47203203,  0.286131  ],\n",
       "       [ 0.90002031, -0.40823454, -0.81896385, -0.92061451,  0.1664089 ,\n",
       "         0.52298148, -0.47510602,  0.73997425],\n",
       "       [-1.01331399, -0.55877478,  0.16235728,  1.06732868, -0.69616954,\n",
       "        -1.43382657, -0.50381696, -0.50537694],\n",
       "       [ 1.22332663, -1.3754674 ,  0.708971  , -0.44378791,  1.38191015,\n",
       "         0.50532575,  0.40297716,  1.16669619]])"
      ]
     },
     "execution_count": 116,
     "metadata": {},
     "output_type": "execute_result"
    }
   ],
   "source": [
    "stock.reshape(10,8) # 返回新的ndarray，原始数据没有改变"
   ]
  },
  {
   "cell_type": "code",
   "execution_count": 117,
   "id": "661ab749",
   "metadata": {},
   "outputs": [
    {
     "data": {
      "text/plain": [
       "array([[ 0.44121016,  0.016707  , -0.43621768, -0.30498503, -1.64385194,\n",
       "        -0.1617075 ,  0.63237125,  0.3172347 , -1.74173643,  1.02578695],\n",
       "       [-0.94447204,  1.53973013, -0.65300945, -2.49706935, -1.23185386,\n",
       "        -0.47679205,  1.09518558,  0.66528255,  0.13528736, -0.11845081],\n",
       "       [ 1.0546195 , -0.71105145, -0.61892367, -0.65361758, -1.11029105,\n",
       "        -0.53806302,  0.78153419,  0.38780112,  0.43329108,  0.05296815],\n",
       "       [-0.36062366, -1.47011014, -1.45161691,  1.02010164,  0.33079879,\n",
       "         0.93672674,  0.02421668,  0.40892928, -0.36367631, -1.05898371],\n",
       "       [ 2.49074146,  1.55414937, -0.29349607,  0.30118305, -0.15016119,\n",
       "         1.22017786, -0.03562443, -0.51082391, -1.00082271, -0.85018936],\n",
       "       [ 0.04580223, -0.03139811, -2.63149322,  0.34766865,  0.47203203,\n",
       "         0.286131  ,  0.90002031, -0.40823454, -0.81896385, -0.92061451],\n",
       "       [ 0.1664089 ,  0.52298148, -0.47510602,  0.73997425, -1.01331399,\n",
       "        -0.55877478,  0.16235728,  1.06732868, -0.69616954, -1.43382657],\n",
       "       [-0.50381696, -0.50537694,  1.22332663, -1.3754674 ,  0.708971  ,\n",
       "        -0.44378791,  1.38191015,  0.50532575,  0.40297716,  1.16669619]])"
      ]
     },
     "execution_count": 117,
     "metadata": {},
     "output_type": "execute_result"
    }
   ],
   "source": [
    "stock"
   ]
  },
  {
   "cell_type": "code",
   "execution_count": 119,
   "id": "d280008b",
   "metadata": {},
   "outputs": [],
   "source": [
    "stock.resize(10,8)"
   ]
  },
  {
   "cell_type": "code",
   "execution_count": 120,
   "id": "5ac82ae6",
   "metadata": {},
   "outputs": [
    {
     "data": {
      "text/plain": [
       "(10, 8)"
      ]
     },
     "execution_count": 120,
     "metadata": {},
     "output_type": "execute_result"
    }
   ],
   "source": [
    "stock.shape # 没有返回值，对原始的ndarray进行了修改"
   ]
  },
  {
   "cell_type": "code",
   "execution_count": 121,
   "id": "e2682bbf",
   "metadata": {},
   "outputs": [
    {
     "data": {
      "text/plain": [
       "array([[ 0.44121016,  0.016707  , -0.43621768, -0.30498503, -1.64385194,\n",
       "        -0.1617075 ,  0.63237125,  0.3172347 ],\n",
       "       [-1.74173643,  1.02578695, -0.94447204,  1.53973013, -0.65300945,\n",
       "        -2.49706935, -1.23185386, -0.47679205],\n",
       "       [ 1.09518558,  0.66528255,  0.13528736, -0.11845081,  1.0546195 ,\n",
       "        -0.71105145, -0.61892367, -0.65361758],\n",
       "       [-1.11029105, -0.53806302,  0.78153419,  0.38780112,  0.43329108,\n",
       "         0.05296815, -0.36062366, -1.47011014],\n",
       "       [-1.45161691,  1.02010164,  0.33079879,  0.93672674,  0.02421668,\n",
       "         0.40892928, -0.36367631, -1.05898371],\n",
       "       [ 2.49074146,  1.55414937, -0.29349607,  0.30118305, -0.15016119,\n",
       "         1.22017786, -0.03562443, -0.51082391],\n",
       "       [-1.00082271, -0.85018936,  0.04580223, -0.03139811, -2.63149322,\n",
       "         0.34766865,  0.47203203,  0.286131  ],\n",
       "       [ 0.90002031, -0.40823454, -0.81896385, -0.92061451,  0.1664089 ,\n",
       "         0.52298148, -0.47510602,  0.73997425],\n",
       "       [-1.01331399, -0.55877478,  0.16235728,  1.06732868, -0.69616954,\n",
       "        -1.43382657, -0.50381696, -0.50537694],\n",
       "       [ 1.22332663, -1.3754674 ,  0.708971  , -0.44378791,  1.38191015,\n",
       "         0.50532575,  0.40297716,  1.16669619]])"
      ]
     },
     "execution_count": 121,
     "metadata": {},
     "output_type": "execute_result"
    }
   ],
   "source": [
    "stock"
   ]
  },
  {
   "cell_type": "code",
   "execution_count": 122,
   "id": "a57f1f08",
   "metadata": {},
   "outputs": [
    {
     "data": {
      "text/plain": [
       "array([[ 0.44121016, -1.74173643,  1.09518558, -1.11029105, -1.45161691,\n",
       "         2.49074146, -1.00082271,  0.90002031, -1.01331399,  1.22332663],\n",
       "       [ 0.016707  ,  1.02578695,  0.66528255, -0.53806302,  1.02010164,\n",
       "         1.55414937, -0.85018936, -0.40823454, -0.55877478, -1.3754674 ],\n",
       "       [-0.43621768, -0.94447204,  0.13528736,  0.78153419,  0.33079879,\n",
       "        -0.29349607,  0.04580223, -0.81896385,  0.16235728,  0.708971  ],\n",
       "       [-0.30498503,  1.53973013, -0.11845081,  0.38780112,  0.93672674,\n",
       "         0.30118305, -0.03139811, -0.92061451,  1.06732868, -0.44378791],\n",
       "       [-1.64385194, -0.65300945,  1.0546195 ,  0.43329108,  0.02421668,\n",
       "        -0.15016119, -2.63149322,  0.1664089 , -0.69616954,  1.38191015],\n",
       "       [-0.1617075 , -2.49706935, -0.71105145,  0.05296815,  0.40892928,\n",
       "         1.22017786,  0.34766865,  0.52298148, -1.43382657,  0.50532575],\n",
       "       [ 0.63237125, -1.23185386, -0.61892367, -0.36062366, -0.36367631,\n",
       "        -0.03562443,  0.47203203, -0.47510602, -0.50381696,  0.40297716],\n",
       "       [ 0.3172347 , -0.47679205, -0.65361758, -1.47011014, -1.05898371,\n",
       "        -0.51082391,  0.286131  ,  0.73997425, -0.50537694,  1.16669619]])"
      ]
     },
     "execution_count": 122,
     "metadata": {},
     "output_type": "execute_result"
    }
   ],
   "source": [
    "stock.T # 转置"
   ]
  },
  {
   "cell_type": "code",
   "execution_count": 123,
   "id": "ae3cb832",
   "metadata": {},
   "outputs": [
    {
     "data": {
      "text/plain": [
       "(10, 8)"
      ]
     },
     "execution_count": 123,
     "metadata": {},
     "output_type": "execute_result"
    }
   ],
   "source": [
    "stock.shape"
   ]
  },
  {
   "cell_type": "code",
   "execution_count": 124,
   "id": "8f96eb8e",
   "metadata": {},
   "outputs": [
    {
     "data": {
      "text/plain": [
       "array([[ 0.44121016,  0.016707  , -0.43621768, -0.30498503, -1.64385194,\n",
       "        -0.1617075 ,  0.63237125,  0.3172347 ],\n",
       "       [-1.74173643,  1.02578695, -0.94447204,  1.53973013, -0.65300945,\n",
       "        -2.49706935, -1.23185386, -0.47679205],\n",
       "       [ 1.09518558,  0.66528255,  0.13528736, -0.11845081,  1.0546195 ,\n",
       "        -0.71105145, -0.61892367, -0.65361758],\n",
       "       [-1.11029105, -0.53806302,  0.78153419,  0.38780112,  0.43329108,\n",
       "         0.05296815, -0.36062366, -1.47011014],\n",
       "       [-1.45161691,  1.02010164,  0.33079879,  0.93672674,  0.02421668,\n",
       "         0.40892928, -0.36367631, -1.05898371],\n",
       "       [ 2.49074146,  1.55414937, -0.29349607,  0.30118305, -0.15016119,\n",
       "         1.22017786, -0.03562443, -0.51082391],\n",
       "       [-1.00082271, -0.85018936,  0.04580223, -0.03139811, -2.63149322,\n",
       "         0.34766865,  0.47203203,  0.286131  ],\n",
       "       [ 0.90002031, -0.40823454, -0.81896385, -0.92061451,  0.1664089 ,\n",
       "         0.52298148, -0.47510602,  0.73997425],\n",
       "       [-1.01331399, -0.55877478,  0.16235728,  1.06732868, -0.69616954,\n",
       "        -1.43382657, -0.50381696, -0.50537694],\n",
       "       [ 1.22332663, -1.3754674 ,  0.708971  , -0.44378791,  1.38191015,\n",
       "         0.50532575,  0.40297716,  1.16669619]])"
      ]
     },
     "execution_count": 124,
     "metadata": {},
     "output_type": "execute_result"
    }
   ],
   "source": [
    "stock"
   ]
  },
  {
   "cell_type": "markdown",
   "id": "0fcf75d0",
   "metadata": {},
   "source": [
    "#### 类型修改\n",
    "   - ndarray.astype(type)\n",
    "   - ndarray序列化到本地\n",
    "   - ndarray.tostring()"
   ]
  },
  {
   "cell_type": "code",
   "execution_count": 125,
   "id": "7d68e56c",
   "metadata": {},
   "outputs": [
    {
     "data": {
      "text/plain": [
       "array([[ 0,  0,  0,  0, -1,  0,  0,  0],\n",
       "       [-1,  1,  0,  1,  0, -2, -1,  0],\n",
       "       [ 1,  0,  0,  0,  1,  0,  0,  0],\n",
       "       [-1,  0,  0,  0,  0,  0,  0, -1],\n",
       "       [-1,  1,  0,  0,  0,  0,  0, -1],\n",
       "       [ 2,  1,  0,  0,  0,  1,  0,  0],\n",
       "       [-1,  0,  0,  0, -2,  0,  0,  0],\n",
       "       [ 0,  0,  0,  0,  0,  0,  0,  0],\n",
       "       [-1,  0,  0,  1,  0, -1,  0,  0],\n",
       "       [ 1, -1,  0,  0,  1,  0,  0,  1]], dtype=int32)"
      ]
     },
     "execution_count": 125,
     "metadata": {},
     "output_type": "execute_result"
    }
   ],
   "source": [
    "stock.astype('int32')"
   ]
  },
  {
   "cell_type": "code",
   "execution_count": 127,
   "id": "fe229177",
   "metadata": {},
   "outputs": [
    {
     "data": {
      "text/plain": [
       "b'\\xc5\\x81:-eM}?\\x01B\"\\xcc,\\x8f\\xd6\\xbf\\xf2\\xd0\\xae\\x92/\\x8d\\xdf\\xbf\\x98D\\xedm\\x8ev\\xf2?\\xb1\\x12\\x14[\\xb2\\x98\\xe5?\\xa2F\\x97\\xf9\\xf5H\\xdd\\xbf@\\xe2\\xd2v\\'L\\xf0?\\xc8\\\\3\\xb0p\\x17\\xf0\\xbf\\xcf\\xfb\\xaa\\x84\\xbfn\\xdb\\xbf\\x86\\xbd\\xd2$k\\xcb\\x03\\xc0\\x81\\xc9p<\\x10b\\xea\\xbf\\xb0\\x94\\xa5\\x13\\xcaG\\xf7?&\\x8c\\xe7\\x9b\\xf2\\xaa\\xf6\\xbfa\\x0b\\xa60\\xda\\xed\\xf4?J<\\xf0s]<\\xec?\\xd9\\x98\\x86\\x0b\\xf7\\x1e\\xea\\xbf`\\r*2\\xc0<\\xf5?\\xb3\\x1a\\xb4\\x8a\\x10\\xcf\\xf2\\xbf\\xfe\\x99+5L\\x1c\\xe5\\xbfB6\\xd1\\xb6\\x9a\\xc7\\xe4?\\x93\\xeb\\xdf\\x11m\\xba\\xa2?\\xe2\\x87Q\\xe1\\xcf\\xc5\\xf7\\xbfU\\xd6\\xc4i[U\\x01\\xc0\\x97\\x1e\\xe0\\xbe\\x9b\\xf1\\xd7?\\xbb\\xfc\\xfa\\xe7\\xe0\\x80\\xf5?\\xefp\\x00\\x10\\xd7p\\xf8?\\xe7D\\x02\\xfc\\xc5#\\xf8?\\x85\\xfa\\xd8\\xa2!j\\xf2\\xbfg\\xfd\\xe4\\xd3\\x03\\xec\\xe4\\xbf\\xb6\\x0e\\x0e\\xf9?\\x92\\xfa?\\xa0_\\x0b\\x8cX\\xad\\xe9?Y,!,\\xb7a\\xe3?\\xc5\\xf9\\xf8\\x12\\xd6\\xa9\\xfe?\\xc7I\\xdf)_K\\xcb?}sG\\xc5\\x1d\\xc9\\xe8?\\xd3N\\x1f|\\xe0\\xf1\\xf1?z\\x85&\\xee\\r\\xe8\\xd8\\xbf2l\\x9bI\\xe3\\n\\xd0\\xbf\\xae,6:\\xfe\\xf2\\xef?\\x9f2\\xaf<\\xc0g\\xe0\\xbfj\\x01\\x1b\\xba\\x11?\\xf1\\xbf\\x0f\\xbf\\xe2\\xc0^\\xa7\\xb4?E\\xa8\\xb8D4@\\xed\\xbf\\x15\\xa74T\\xc1\\xf9\\xe1\\xbf\\xa5\\xf5\\xb8\\xa6\\x8d)\\xd7\\xbf\\xc7O\\xbe\\x96\\xb0B\\xe7?\\xe3\\xcf\\x17\\xe5(\\x90\\xf2?2\\xa9\\x90\\x0b\\xfa\\xfd\\xcd\\xbf:\\xd09dj\\xe9\\xf9?~\\x97\\x93\\x1f\\x19\\xd1\\xbc\\xbf\\xd1\\x83\\xb8\\xea\\x9a\\xe8\\xe3\\xbf\\xe6s\\xefA\\xcb]\\xf3\\xbf\\xba\\xe3i^\\xd9\\xd7\\xeb?\\xbfSj\\x00\\xd5\\x8f\\xf9\\xbf\\x07%\\xb0Bi<\\xea\\xbf\\xb2S\\xa8E9\\xa7\\xde?\\xa8\\x0bXB\\x99\\xcf\\xf2\\xbf\\xdb$\\x1b\\xde\\xa3\\xd6\\xe0\\xbf8\\x99.P}\\xec\\xf0?\\xd4\\r\\xc8\\r\\x90]\\xe2?g\\x0b\\x16\\x9f\\xf5\\x81\\xd3\\xbfgz_\\xe6\\xa3\\xe0\\xd9\\xbf\\x9b\\x8b\\xec\\xe6\\x1c\\xad\\xec?\\xac\\xf2\\x8e\\x18\\x0f\\xb5\\xf1\\xbf\\xce\\xba\\x83q\\x8f\\x81\\xe7?*1\\x11D\\x7f\\xaa\\xf1?V\\xf3&\\xe5\\xe3\\xf6\\xdb\\xbf4\\x8b\\xb0U\\xe9\\xb4\\xe4?\\xa9\\x18\\x06\\xcbLz\\xc3\\xbf3\\xc49D\\x1f,\\xcc\\xbf&\\x003\\x01.\\xa5\\xf1?\\'O\\xa6%\\xda\\x02\\xb0\\xbf\\xf1\\xaf\\xa4\\xffh\\xa1\\xe4\\xbf\\xe78\\xf7\\x14y\\xf7\\xf2\\xbf\\xe0\\x8eN\\x0c\\xc8^\\xd2?\\\\{\\xd2X\\x0c\\xcc\\xf6\\xbf\\xe9\\xe53kR\\x9d\\xeb\\xbf,\\xbbYmB\\xd0\\xdc?\\xf1zz\\xa2k\\xb0\\xcb?\\x0f]\\x9aD\\xda\\xfb\\xff\\xbf'"
      ]
     },
     "execution_count": 127,
     "metadata": {},
     "output_type": "execute_result"
    }
   ],
   "source": [
    "sotck.tobytes()"
   ]
  },
  {
   "cell_type": "code",
   "execution_count": 128,
   "id": "2cf104ab",
   "metadata": {},
   "outputs": [
    {
     "name": "stderr",
     "output_type": "stream",
     "text": [
      "/var/folders/hy/gsml0fn50hl12k111ygdn6q80000gn/T/ipykernel_67442/638047972.py:1: DeprecationWarning: tostring() is deprecated. Use tobytes() instead.\n",
      "  sotck.tostring()\n"
     ]
    },
    {
     "data": {
      "text/plain": [
       "b'\\xc5\\x81:-eM}?\\x01B\"\\xcc,\\x8f\\xd6\\xbf\\xf2\\xd0\\xae\\x92/\\x8d\\xdf\\xbf\\x98D\\xedm\\x8ev\\xf2?\\xb1\\x12\\x14[\\xb2\\x98\\xe5?\\xa2F\\x97\\xf9\\xf5H\\xdd\\xbf@\\xe2\\xd2v\\'L\\xf0?\\xc8\\\\3\\xb0p\\x17\\xf0\\xbf\\xcf\\xfb\\xaa\\x84\\xbfn\\xdb\\xbf\\x86\\xbd\\xd2$k\\xcb\\x03\\xc0\\x81\\xc9p<\\x10b\\xea\\xbf\\xb0\\x94\\xa5\\x13\\xcaG\\xf7?&\\x8c\\xe7\\x9b\\xf2\\xaa\\xf6\\xbfa\\x0b\\xa60\\xda\\xed\\xf4?J<\\xf0s]<\\xec?\\xd9\\x98\\x86\\x0b\\xf7\\x1e\\xea\\xbf`\\r*2\\xc0<\\xf5?\\xb3\\x1a\\xb4\\x8a\\x10\\xcf\\xf2\\xbf\\xfe\\x99+5L\\x1c\\xe5\\xbfB6\\xd1\\xb6\\x9a\\xc7\\xe4?\\x93\\xeb\\xdf\\x11m\\xba\\xa2?\\xe2\\x87Q\\xe1\\xcf\\xc5\\xf7\\xbfU\\xd6\\xc4i[U\\x01\\xc0\\x97\\x1e\\xe0\\xbe\\x9b\\xf1\\xd7?\\xbb\\xfc\\xfa\\xe7\\xe0\\x80\\xf5?\\xefp\\x00\\x10\\xd7p\\xf8?\\xe7D\\x02\\xfc\\xc5#\\xf8?\\x85\\xfa\\xd8\\xa2!j\\xf2\\xbfg\\xfd\\xe4\\xd3\\x03\\xec\\xe4\\xbf\\xb6\\x0e\\x0e\\xf9?\\x92\\xfa?\\xa0_\\x0b\\x8cX\\xad\\xe9?Y,!,\\xb7a\\xe3?\\xc5\\xf9\\xf8\\x12\\xd6\\xa9\\xfe?\\xc7I\\xdf)_K\\xcb?}sG\\xc5\\x1d\\xc9\\xe8?\\xd3N\\x1f|\\xe0\\xf1\\xf1?z\\x85&\\xee\\r\\xe8\\xd8\\xbf2l\\x9bI\\xe3\\n\\xd0\\xbf\\xae,6:\\xfe\\xf2\\xef?\\x9f2\\xaf<\\xc0g\\xe0\\xbfj\\x01\\x1b\\xba\\x11?\\xf1\\xbf\\x0f\\xbf\\xe2\\xc0^\\xa7\\xb4?E\\xa8\\xb8D4@\\xed\\xbf\\x15\\xa74T\\xc1\\xf9\\xe1\\xbf\\xa5\\xf5\\xb8\\xa6\\x8d)\\xd7\\xbf\\xc7O\\xbe\\x96\\xb0B\\xe7?\\xe3\\xcf\\x17\\xe5(\\x90\\xf2?2\\xa9\\x90\\x0b\\xfa\\xfd\\xcd\\xbf:\\xd09dj\\xe9\\xf9?~\\x97\\x93\\x1f\\x19\\xd1\\xbc\\xbf\\xd1\\x83\\xb8\\xea\\x9a\\xe8\\xe3\\xbf\\xe6s\\xefA\\xcb]\\xf3\\xbf\\xba\\xe3i^\\xd9\\xd7\\xeb?\\xbfSj\\x00\\xd5\\x8f\\xf9\\xbf\\x07%\\xb0Bi<\\xea\\xbf\\xb2S\\xa8E9\\xa7\\xde?\\xa8\\x0bXB\\x99\\xcf\\xf2\\xbf\\xdb$\\x1b\\xde\\xa3\\xd6\\xe0\\xbf8\\x99.P}\\xec\\xf0?\\xd4\\r\\xc8\\r\\x90]\\xe2?g\\x0b\\x16\\x9f\\xf5\\x81\\xd3\\xbfgz_\\xe6\\xa3\\xe0\\xd9\\xbf\\x9b\\x8b\\xec\\xe6\\x1c\\xad\\xec?\\xac\\xf2\\x8e\\x18\\x0f\\xb5\\xf1\\xbf\\xce\\xba\\x83q\\x8f\\x81\\xe7?*1\\x11D\\x7f\\xaa\\xf1?V\\xf3&\\xe5\\xe3\\xf6\\xdb\\xbf4\\x8b\\xb0U\\xe9\\xb4\\xe4?\\xa9\\x18\\x06\\xcbLz\\xc3\\xbf3\\xc49D\\x1f,\\xcc\\xbf&\\x003\\x01.\\xa5\\xf1?\\'O\\xa6%\\xda\\x02\\xb0\\xbf\\xf1\\xaf\\xa4\\xffh\\xa1\\xe4\\xbf\\xe78\\xf7\\x14y\\xf7\\xf2\\xbf\\xe0\\x8eN\\x0c\\xc8^\\xd2?\\\\{\\xd2X\\x0c\\xcc\\xf6\\xbf\\xe9\\xe53kR\\x9d\\xeb\\xbf,\\xbbYmB\\xd0\\xdc?\\xf1zz\\xa2k\\xb0\\xcb?\\x0f]\\x9aD\\xda\\xfb\\xff\\xbf'"
      ]
     },
     "execution_count": 128,
     "metadata": {},
     "output_type": "execute_result"
    }
   ],
   "source": [
    "sotck.tostring()"
   ]
  },
  {
   "cell_type": "markdown",
   "id": "a28ae729",
   "metadata": {},
   "source": [
    "#### 数组去重\n",
    " - unique\n",
    " - set  仅一维"
   ]
  },
  {
   "cell_type": "code",
   "execution_count": 129,
   "id": "08329277",
   "metadata": {},
   "outputs": [],
   "source": [
    "temp = np.array([[1, 2, 3, 4],[3, 4, 5, 6]])"
   ]
  },
  {
   "cell_type": "code",
   "execution_count": 130,
   "id": "d51726c5",
   "metadata": {},
   "outputs": [
    {
     "data": {
      "text/plain": [
       "array([[1, 2, 3, 4],\n",
       "       [3, 4, 5, 6]])"
      ]
     },
     "execution_count": 130,
     "metadata": {},
     "output_type": "execute_result"
    }
   ],
   "source": [
    "temp"
   ]
  },
  {
   "cell_type": "code",
   "execution_count": 131,
   "id": "330aebd2",
   "metadata": {},
   "outputs": [
    {
     "data": {
      "text/plain": [
       "array([1, 2, 3, 4, 5, 6])"
      ]
     },
     "execution_count": 131,
     "metadata": {},
     "output_type": "execute_result"
    }
   ],
   "source": [
    "np.unique(temp)  # 去重复"
   ]
  },
  {
   "cell_type": "code",
   "execution_count": 132,
   "id": "73974fd4",
   "metadata": {},
   "outputs": [
    {
     "data": {
      "text/plain": [
       "array([1, 2, 3, 4, 3, 4, 5, 6])"
      ]
     },
     "execution_count": 132,
     "metadata": {},
     "output_type": "execute_result"
    }
   ],
   "source": [
    "temp.flatten() # 拍扁数据 再使用set ，python set类型是没有重复数据的"
   ]
  },
  {
   "cell_type": "code",
   "execution_count": 133,
   "id": "84f58679",
   "metadata": {},
   "outputs": [
    {
     "data": {
      "text/plain": [
       "{1, 2, 3, 4, 5, 6}"
      ]
     },
     "execution_count": 133,
     "metadata": {},
     "output_type": "execute_result"
    }
   ],
   "source": [
    "set(temp.flatten()) # "
   ]
  },
  {
   "cell_type": "markdown",
   "id": "a1ef4406",
   "metadata": {},
   "source": [
    "#### ndarray运算"
   ]
  },
  {
   "cell_type": "code",
   "execution_count": null,
   "id": "cce3f99b",
   "metadata": {},
   "outputs": [],
   "source": []
  }
 ],
 "metadata": {
  "kernelspec": {
   "display_name": "Python 3 (ipykernel)",
   "language": "python",
   "name": "python3"
  },
  "language_info": {
   "codemirror_mode": {
    "name": "ipython",
    "version": 3
   },
   "file_extension": ".py",
   "mimetype": "text/x-python",
   "name": "python",
   "nbconvert_exporter": "python",
   "pygments_lexer": "ipython3",
   "version": "3.8.13"
  }
 },
 "nbformat": 4,
 "nbformat_minor": 5
}
