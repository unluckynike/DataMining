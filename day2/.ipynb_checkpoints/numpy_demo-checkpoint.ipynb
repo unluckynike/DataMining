{
 "cells": [
  {
   "cell_type": "code",
   "execution_count": 1,
   "id": "5389e87b",
   "metadata": {},
   "outputs": [],
   "source": [
    "import numpy as np"
   ]
  },
  {
   "cell_type": "code",
   "execution_count": 26,
   "id": "966d755d",
   "metadata": {},
   "outputs": [],
   "source": [
    "# 分数数据\n",
    "socre=np.array([[80, 89, 86, 67, 79], \n",
    "[78, 97, 89, 67, 81],\n",
    "[90, 94, 78, 67, 74],\n",
    "[91, 91, 90, 67, 69],\n",
    "[76, 87, 75, 67, 86],\n",
    "[70, 79, 84, 67, 84],\n",
    "[94, 92, 93, 67, 64],\n",
    "[86, 85, 83, 67, 80]])"
   ]
  },
  {
   "cell_type": "code",
   "execution_count": 3,
   "id": "ddbcccb8",
   "metadata": {},
   "outputs": [
    {
     "data": {
      "text/plain": [
       "array([[80, 89, 86, 67, 79],\n",
       "       [78, 97, 89, 67, 81],\n",
       "       [90, 94, 78, 67, 74],\n",
       "       [91, 91, 90, 67, 69],\n",
       "       [76, 87, 75, 67, 86],\n",
       "       [70, 79, 84, 67, 84],\n",
       "       [94, 92, 93, 67, 64],\n",
       "       [86, 85, 83, 67, 80]])"
      ]
     },
     "execution_count": 3,
     "metadata": {},
     "output_type": "execute_result"
    }
   ],
   "source": [
    "socre"
   ]
  },
  {
   "cell_type": "code",
   "execution_count": 4,
   "id": "1379ee8b",
   "metadata": {},
   "outputs": [
    {
     "data": {
      "text/plain": [
       "numpy.ndarray"
      ]
     },
     "execution_count": 4,
     "metadata": {},
     "output_type": "execute_result"
    }
   ],
   "source": [
    "type(socre) # 查看数据类型"
   ]
  },
  {
   "cell_type": "markdown",
   "id": "e9a2ba02",
   "metadata": {},
   "source": [
    "#### ndarray与Python原生list运算效率对比\n",
    "  numpy专门对ndarray的操作和运算进行了设计，所以数组的存储效率和输入输出性能远远优于python中的嵌套列表，数组越大，numpy的优势越明显\n",
    "##### ndarray 优势原因\n",
    " - 存储风格   ndarray - 相同类型 - 通用性不强，  list - 不同类型 - 通用性很强\n",
    " - 并行化运算  ndarray支持向量化运算\n",
    " - 底层语言  C语言，内部解除了GIL"
   ]
  },
  {
   "cell_type": "code",
   "execution_count": 12,
   "id": "f9f2feb6",
   "metadata": {},
   "outputs": [
    {
     "name": "stdout",
     "output_type": "stream",
     "text": [
      "a len:  100000000\n",
      "a time : 1.7814080715179443, b time : 0.14223599433898926\n"
     ]
    }
   ],
   "source": [
    "import random\n",
    "import time\n",
    "import numpy as np\n",
    "\n",
    "a=[] \n",
    "\n",
    "for i in range(100000000): \n",
    "  a.append(random.random()) # 随机生成一亿个数\n",
    "print('a len: ',len(a))\n",
    "\n",
    "t1=time.time()\n",
    "sum1=sum(a)\n",
    "t2=time.time()\n",
    "time_a=t2-t1 #  计算运算时间\n",
    "\n",
    "b=np.array(a) # ndarray的计算速度要快很多，节约时间\n",
    "t3=time.time()\n",
    "sum2=np.sum(b)\n",
    "t4=time.time()\n",
    "time_b=t4-t3\n",
    "\n",
    "print(f'a time : {time_a}, b time : {time_b}')"
   ]
  },
  {
   "cell_type": "markdown",
   "id": "331e7f50",
   "metadata": {},
   "source": [
    "#### ndarray的属性\n",
    "  - shape  数组维度的元组\n",
    "     - ndim 数组维度\n",
    "     - size 数组中的元素数量\n",
    "  - dtype  数组元素的类型\n",
    "     - itemsize 一个数组元素的长度（字节）"
   ]
  },
  {
   "cell_type": "code",
   "execution_count": 14,
   "id": "735ca047",
   "metadata": {},
   "outputs": [
    {
     "data": {
      "text/plain": [
       "(8, 5)"
      ]
     },
     "execution_count": 14,
     "metadata": {},
     "output_type": "execute_result"
    }
   ],
   "source": [
    "socre.shape # 8行5列"
   ]
  },
  {
   "cell_type": "code",
   "execution_count": 15,
   "id": "ab2d2ca7",
   "metadata": {},
   "outputs": [
    {
     "data": {
      "text/plain": [
       "2"
      ]
     },
     "execution_count": 15,
     "metadata": {},
     "output_type": "execute_result"
    }
   ],
   "source": [
    "socre.ndim"
   ]
  },
  {
   "cell_type": "code",
   "execution_count": 16,
   "id": "b9a5d5eb",
   "metadata": {},
   "outputs": [
    {
     "data": {
      "text/plain": [
       "40"
      ]
     },
     "execution_count": 16,
     "metadata": {},
     "output_type": "execute_result"
    }
   ],
   "source": [
    "socre.size"
   ]
  },
  {
   "cell_type": "code",
   "execution_count": 17,
   "id": "21a01c5c",
   "metadata": {},
   "outputs": [
    {
     "data": {
      "text/plain": [
       "dtype('int64')"
      ]
     },
     "execution_count": 17,
     "metadata": {},
     "output_type": "execute_result"
    }
   ],
   "source": [
    "socre.dtype # 在创建ndarray的时候，如果没有指定类型  默认整数 int64, 浮点数 float64"
   ]
  },
  {
   "cell_type": "code",
   "execution_count": 18,
   "id": "d815f326",
   "metadata": {},
   "outputs": [
    {
     "data": {
      "text/plain": [
       "8"
      ]
     },
     "execution_count": 18,
     "metadata": {},
     "output_type": "execute_result"
    }
   ],
   "source": [
    "socre.itemsize"
   ]
  },
  {
   "cell_type": "markdown",
   "id": "129c0ea4",
   "metadata": {},
   "source": [
    "#### ndarray的形状"
   ]
  },
  {
   "cell_type": "code",
   "execution_count": 20,
   "id": "2b28ebf2",
   "metadata": {},
   "outputs": [],
   "source": [
    "a = np.array([[1,2,3],[4,5,6]])\n",
    "b = np.array([1,2,3,4])\n",
    "c = np.array([[[1,2,3],[4,5,6]],[[1,2,3],[4,5,6]]])"
   ]
  },
  {
   "cell_type": "code",
   "execution_count": 21,
   "id": "8ce6cd59",
   "metadata": {},
   "outputs": [
    {
     "data": {
      "text/plain": [
       "array([[1, 2, 3],\n",
       "       [4, 5, 6]])"
      ]
     },
     "execution_count": 21,
     "metadata": {},
     "output_type": "execute_result"
    }
   ],
   "source": [
    "a #（2，3）  二维 两行三列"
   ]
  },
  {
   "cell_type": "code",
   "execution_count": 22,
   "id": "9be75717",
   "metadata": {},
   "outputs": [
    {
     "data": {
      "text/plain": [
       "array([1, 2, 3, 4])"
      ]
     },
     "execution_count": 22,
     "metadata": {},
     "output_type": "execute_result"
    }
   ],
   "source": [
    "b #（4，） 一维"
   ]
  },
  {
   "cell_type": "code",
   "execution_count": 23,
   "id": "96df49eb",
   "metadata": {},
   "outputs": [
    {
     "data": {
      "text/plain": [
       "array([[[1, 2, 3],\n",
       "        [4, 5, 6]],\n",
       "\n",
       "       [[1, 2, 3],\n",
       "        [4, 5, 6]]])"
      ]
     },
     "execution_count": 23,
     "metadata": {},
     "output_type": "execute_result"
    }
   ],
   "source": [
    "c #（2，2，3）  三个中括号 三维 "
   ]
  },
  {
   "cell_type": "code",
   "execution_count": 24,
   "id": "f11ea462",
   "metadata": {},
   "outputs": [
    {
     "data": {
      "text/plain": [
       "(2, 2, 3)"
      ]
     },
     "execution_count": 24,
     "metadata": {},
     "output_type": "execute_result"
    }
   ],
   "source": [
    "a.shape"
   ]
  },
  {
   "cell_type": "code",
   "execution_count": 25,
   "id": "c1cebfa2",
   "metadata": {},
   "outputs": [
    {
     "data": {
      "text/plain": [
       "(4,)"
      ]
     },
     "execution_count": 25,
     "metadata": {},
     "output_type": "execute_result"
    }
   ],
   "source": [
    "b.shape"
   ]
  },
  {
   "cell_type": "code",
   "execution_count": 26,
   "id": "f3c043dc",
   "metadata": {},
   "outputs": [
    {
     "data": {
      "text/plain": [
       "(2, 2, 3)"
      ]
     },
     "execution_count": 26,
     "metadata": {},
     "output_type": "execute_result"
    }
   ],
   "source": [
    "c.shape"
   ]
  },
  {
   "cell_type": "markdown",
   "id": "eaa15b27",
   "metadata": {},
   "source": [
    "#### ndarray 类型"
   ]
  },
  {
   "cell_type": "code",
   "execution_count": 7,
   "id": "ebb7ae29",
   "metadata": {},
   "outputs": [],
   "source": [
    "data = np.array([1.1, 2.2, 3.3]) #  若不指定 默认float64"
   ]
  },
  {
   "cell_type": "code",
   "execution_count": 8,
   "id": "aa7fb68d",
   "metadata": {},
   "outputs": [
    {
     "data": {
      "text/plain": [
       "array([1.1, 2.2, 3.3])"
      ]
     },
     "execution_count": 8,
     "metadata": {},
     "output_type": "execute_result"
    }
   ],
   "source": [
    "data"
   ]
  },
  {
   "cell_type": "code",
   "execution_count": 9,
   "id": "6a0a77c9",
   "metadata": {},
   "outputs": [
    {
     "data": {
      "text/plain": [
       "dtype('float64')"
      ]
     },
     "execution_count": 9,
     "metadata": {},
     "output_type": "execute_result"
    }
   ],
   "source": [
    "data.dtype"
   ]
  },
  {
   "cell_type": "code",
   "execution_count": 5,
   "id": "49e622cc",
   "metadata": {},
   "outputs": [
    {
     "data": {
      "text/plain": [
       "array([1.1, 2.2, 3.3], dtype=float32)"
      ]
     },
     "execution_count": 5,
     "metadata": {},
     "output_type": "execute_result"
    }
   ],
   "source": [
    "# 创建指定类型的\n",
    "np.array([1.1,2.2,3.3],dtype=\"float32\")"
   ]
  },
  {
   "cell_type": "code",
   "execution_count": 4,
   "id": "d728e32d",
   "metadata": {},
   "outputs": [
    {
     "data": {
      "text/plain": [
       "array([1.1, 2.2, 3.3], dtype=float32)"
      ]
     },
     "execution_count": 4,
     "metadata": {},
     "output_type": "execute_result"
    }
   ],
   "source": [
    "np.array([1.1,2.2,3.3],dtype=np.float32)"
   ]
  },
  {
   "cell_type": "markdown",
   "id": "3b2a1c4e",
   "metadata": {},
   "source": [
    "#### 基本操作\n",
    "   - 生成0和1的数组\n",
    "      1. np.zeros(shape)\n",
    "      2. np.ones(shape\n",
    "   - 从现有的数组中生成\n",
    "      1. np.array()， np.copy() 深拷贝\n",
    "      2. np.asarray() 浅拷贝\n",
    "   - 生存固定范围的数组\n",
    "      1. np.linspace(，，，) 左闭右闭 等距离  前两个参数是范围 第三个是数量\n",
    "      2. np.arange() 左闭右开 第三个参数是步长\n",
    "   - 生存随机数组"
   ]
  },
  {
   "cell_type": "markdown",
   "id": "dabe16fb",
   "metadata": {},
   "source": [
    "#### 生成0和1的数组"
   ]
  },
  {
   "cell_type": "code",
   "execution_count": 16,
   "id": "a18a7801",
   "metadata": {},
   "outputs": [
    {
     "data": {
      "text/plain": [
       "array([[0., 0., 0., 0.],\n",
       "       [0., 0., 0., 0.],\n",
       "       [0., 0., 0., 0.]], dtype=float32)"
      ]
     },
     "execution_count": 16,
     "metadata": {},
     "output_type": "execute_result"
    }
   ],
   "source": [
    "np.zeros(shape=(3,4),dtype='float32') # 全零数组 可指定类型"
   ]
  },
  {
   "cell_type": "code",
   "execution_count": 17,
   "id": "fb69adc6",
   "metadata": {},
   "outputs": [
    {
     "data": {
      "text/plain": [
       "dtype('float64')"
      ]
     },
     "execution_count": 17,
     "metadata": {},
     "output_type": "execute_result"
    }
   ],
   "source": [
    "np.zeros(shape=(2,2)).dtype"
   ]
  },
  {
   "cell_type": "code",
   "execution_count": 24,
   "id": "b320565a",
   "metadata": {},
   "outputs": [
    {
     "data": {
      "text/plain": [
       "array([[1., 1., 1., 1., 1.],\n",
       "       [1., 1., 1., 1., 1.],\n",
       "       [1., 1., 1., 1., 1.],\n",
       "       [1., 1., 1., 1., 1.],\n",
       "       [1., 1., 1., 1., 1.]])"
      ]
     },
     "execution_count": 24,
     "metadata": {},
     "output_type": "execute_result"
    }
   ],
   "source": [
    "np.ones(shape=(5,5)) # 全一数组 "
   ]
  },
  {
   "cell_type": "code",
   "execution_count": 23,
   "id": "2e91b82f",
   "metadata": {},
   "outputs": [
    {
     "data": {
      "text/plain": [
       "dtype('float64')"
      ]
     },
     "execution_count": 23,
     "metadata": {},
     "output_type": "execute_result"
    }
   ],
   "source": [
    "(np.ones(shape=(2,2))).dtype"
   ]
  },
  {
   "cell_type": "markdown",
   "id": "5ccb3678",
   "metadata": {},
   "source": [
    "#### 从现有的数组中生成"
   ]
  },
  {
   "cell_type": "code",
   "execution_count": 27,
   "id": "33aefe31",
   "metadata": {},
   "outputs": [
    {
     "data": {
      "text/plain": [
       "array([[80, 89, 86, 67, 79],\n",
       "       [78, 97, 89, 67, 81],\n",
       "       [90, 94, 78, 67, 74],\n",
       "       [91, 91, 90, 67, 69],\n",
       "       [76, 87, 75, 67, 86],\n",
       "       [70, 79, 84, 67, 84],\n",
       "       [94, 92, 93, 67, 64],\n",
       "       [86, 85, 83, 67, 80]])"
      ]
     },
     "execution_count": 27,
     "metadata": {},
     "output_type": "execute_result"
    }
   ],
   "source": [
    "socre # 前面的分数数据"
   ]
  },
  {
   "cell_type": "code",
   "execution_count": 28,
   "id": "374b20c9",
   "metadata": {},
   "outputs": [],
   "source": [
    "data1=np.array(socre)"
   ]
  },
  {
   "cell_type": "code",
   "execution_count": 29,
   "id": "79a85aca",
   "metadata": {},
   "outputs": [
    {
     "data": {
      "text/plain": [
       "array([[80, 89, 86, 67, 79],\n",
       "       [78, 97, 89, 67, 81],\n",
       "       [90, 94, 78, 67, 74],\n",
       "       [91, 91, 90, 67, 69],\n",
       "       [76, 87, 75, 67, 86],\n",
       "       [70, 79, 84, 67, 84],\n",
       "       [94, 92, 93, 67, 64],\n",
       "       [86, 85, 83, 67, 80]])"
      ]
     },
     "execution_count": 29,
     "metadata": {},
     "output_type": "execute_result"
    }
   ],
   "source": [
    "data1 # "
   ]
  },
  {
   "cell_type": "code",
   "execution_count": 30,
   "id": "748fce0b",
   "metadata": {},
   "outputs": [],
   "source": [
    "data2=np.asarray(socre)"
   ]
  },
  {
   "cell_type": "code",
   "execution_count": 31,
   "id": "bbc02975",
   "metadata": {},
   "outputs": [
    {
     "data": {
      "text/plain": [
       "array([[80, 89, 86, 67, 79],\n",
       "       [78, 97, 89, 67, 81],\n",
       "       [90, 94, 78, 67, 74],\n",
       "       [91, 91, 90, 67, 69],\n",
       "       [76, 87, 75, 67, 86],\n",
       "       [70, 79, 84, 67, 84],\n",
       "       [94, 92, 93, 67, 64],\n",
       "       [86, 85, 83, 67, 80]])"
      ]
     },
     "execution_count": 31,
     "metadata": {},
     "output_type": "execute_result"
    }
   ],
   "source": [
    "data2"
   ]
  },
  {
   "cell_type": "code",
   "execution_count": 33,
   "id": "0f4b02eb",
   "metadata": {},
   "outputs": [],
   "source": [
    "data3=np.copy(socre)"
   ]
  },
  {
   "cell_type": "code",
   "execution_count": 34,
   "id": "d0af5fa1",
   "metadata": {},
   "outputs": [
    {
     "data": {
      "text/plain": [
       "array([[80, 89, 86, 67, 79],\n",
       "       [78, 97, 89, 67, 81],\n",
       "       [90, 94, 78, 67, 74],\n",
       "       [91, 91, 90, 67, 69],\n",
       "       [76, 87, 75, 67, 86],\n",
       "       [70, 79, 84, 67, 84],\n",
       "       [94, 92, 93, 67, 64],\n",
       "       [86, 85, 83, 67, 80]])"
      ]
     },
     "execution_count": 34,
     "metadata": {},
     "output_type": "execute_result"
    }
   ],
   "source": [
    "data3"
   ]
  },
  {
   "cell_type": "code",
   "execution_count": 37,
   "id": "0912dd84",
   "metadata": {},
   "outputs": [],
   "source": [
    "# 改个数据 数组下标从0开始 此处改的是第四行第二列 下标为（3，1）\n",
    "socre[3,1]=9999"
   ]
  },
  {
   "cell_type": "code",
   "execution_count": 38,
   "id": "06c82053",
   "metadata": {},
   "outputs": [
    {
     "data": {
      "text/plain": [
       "array([[  80,   89,   86,   67,   79],\n",
       "       [  78,   97,   89,   67,   81],\n",
       "       [  90,   94,   78,   67,   74],\n",
       "       [  91, 9999,   90,   67,   69],\n",
       "       [  76,   87,   75,   67,   86],\n",
       "       [  70,   79,   84,   67,   84],\n",
       "       [  94,   92,   93,   67,   64],\n",
       "       [  86,   85,   83,   67,   80]])"
      ]
     },
     "execution_count": 38,
     "metadata": {},
     "output_type": "execute_result"
    }
   ],
   "source": [
    "socre"
   ]
  },
  {
   "cell_type": "code",
   "execution_count": 39,
   "id": "044a31bb",
   "metadata": {},
   "outputs": [
    {
     "data": {
      "text/plain": [
       "array([[80, 89, 86, 67, 79],\n",
       "       [78, 97, 89, 67, 81],\n",
       "       [90, 94, 78, 67, 74],\n",
       "       [91, 91, 90, 67, 69],\n",
       "       [76, 87, 75, 67, 86],\n",
       "       [70, 79, 84, 67, 84],\n",
       "       [94, 92, 93, 67, 64],\n",
       "       [86, 85, 83, 67, 80]])"
      ]
     },
     "execution_count": 39,
     "metadata": {},
     "output_type": "execute_result"
    }
   ],
   "source": [
    "data1 # 不受原始score影响 深拷贝"
   ]
  },
  {
   "cell_type": "code",
   "execution_count": 40,
   "id": "dbfff4e3",
   "metadata": {},
   "outputs": [
    {
     "data": {
      "text/plain": [
       "array([[  80,   89,   86,   67,   79],\n",
       "       [  78,   97,   89,   67,   81],\n",
       "       [  90,   94,   78,   67,   74],\n",
       "       [  91, 9999,   90,   67,   69],\n",
       "       [  76,   87,   75,   67,   86],\n",
       "       [  70,   79,   84,   67,   84],\n",
       "       [  94,   92,   93,   67,   64],\n",
       "       [  86,   85,   83,   67,   80]])"
      ]
     },
     "execution_count": 40,
     "metadata": {},
     "output_type": "execute_result"
    }
   ],
   "source": [
    "data2  # 值改变了 浅拷贝"
   ]
  },
  {
   "cell_type": "code",
   "execution_count": 41,
   "id": "be35f847",
   "metadata": {},
   "outputs": [
    {
     "data": {
      "text/plain": [
       "array([[80, 89, 86, 67, 79],\n",
       "       [78, 97, 89, 67, 81],\n",
       "       [90, 94, 78, 67, 74],\n",
       "       [91, 91, 90, 67, 69],\n",
       "       [76, 87, 75, 67, 86],\n",
       "       [70, 79, 84, 67, 84],\n",
       "       [94, 92, 93, 67, 64],\n",
       "       [86, 85, 83, 67, 80]])"
      ]
     },
     "execution_count": 41,
     "metadata": {},
     "output_type": "execute_result"
    }
   ],
   "source": [
    "data3"
   ]
  },
  {
   "cell_type": "markdown",
   "id": "342d1141",
   "metadata": {},
   "source": [
    "#### 生成固定范围数组"
   ]
  },
  {
   "cell_type": "code",
   "execution_count": 43,
   "id": "b037994e",
   "metadata": {},
   "outputs": [
    {
     "data": {
      "text/plain": [
       "array([ 0. ,  2.5,  5. ,  7.5, 10. ])"
      ]
     },
     "execution_count": 43,
     "metadata": {},
     "output_type": "execute_result"
    }
   ],
   "source": [
    "np.linspace(0,10,5)"
   ]
  },
  {
   "cell_type": "code",
   "execution_count": 44,
   "id": "53bd8f79",
   "metadata": {},
   "outputs": [
    {
     "data": {
      "text/plain": [
       "array([0, 2, 4, 6, 8])"
      ]
     },
     "execution_count": 44,
     "metadata": {},
     "output_type": "execute_result"
    }
   ],
   "source": [
    "np.arange(0,10,2)"
   ]
  },
  {
   "cell_type": "markdown",
   "id": "05d875b1",
   "metadata": {},
   "source": [
    "#### 生成随机数组\n",
    "   - 均匀分布\n",
    "   - 正太分布"
   ]
  },
  {
   "cell_type": "code",
   "execution_count": 73,
   "id": "e21f1a9b",
   "metadata": {},
   "outputs": [],
   "source": [
    " # 均匀分布 可能性相等\n",
    "data_uniform=np.random.uniform(low=-1,high=1,size=1000000) # -1到1之间生成一百万个"
   ]
  },
  {
   "cell_type": "code",
   "execution_count": 74,
   "id": "54389b3f",
   "metadata": {},
   "outputs": [
    {
     "data": {
      "text/plain": [
       "array([ 0.49723795,  0.87926182,  0.47276805, ..., -0.12438069,\n",
       "        0.7444136 ,  0.81070472])"
      ]
     },
     "execution_count": 74,
     "metadata": {},
     "output_type": "execute_result"
    }
   ],
   "source": [
    "data_uniform"
   ]
  },
  {
   "cell_type": "code",
   "execution_count": 75,
   "id": "f96e60d2",
   "metadata": {},
   "outputs": [],
   "source": [
    "import matplotlib.pyplot as plt"
   ]
  },
  {
   "cell_type": "code",
   "execution_count": 76,
   "id": "212912db",
   "metadata": {},
   "outputs": [
    {
     "data": {
      "image/png": "[encoded data removed]",
      "text/plain": [
       "<Figure size 1600x640 with 1 Axes>"
      ]
     },
     "metadata": {
      "needs_background": "light"
     },
     "output_type": "display_data"
    }
   ],
   "source": [
    "# 1创建画布\n",
    "plt.figure(figsize=(20,8),dpi=80)\n",
    "# 2绘制图像\n",
    "plt.hist(data_uniform,1000) # 分一千组\n",
    "# 3显示图像\n",
    "plt.show()"
   ]
  },
  {
   "cell_type": "code",
   "execution_count": 78,
   "id": "2f672ae3",
   "metadata": {},
   "outputs": [],
   "source": [
    "# 正太分布\n",
    "data_normal=np.random.normal(loc=1.75,scale=0.1,size=1000000)"
   ]
  },
  {
   "cell_type": "code",
   "execution_count": 79,
   "id": "6219b012",
   "metadata": {},
   "outputs": [
    {
     "data": {
      "text/plain": [
       "array([1.78113189, 1.66230321, 1.78382505, ..., 1.80396115, 1.73056524,\n",
       "       1.78060853])"
      ]
     },
     "execution_count": 79,
     "metadata": {},
     "output_type": "execute_result"
    }
   ],
   "source": [
    "data_normal"
   ]
  },
  {
   "cell_type": "code",
   "execution_count": 82,
   "id": "5294c55d",
   "metadata": {},
   "outputs": [
    {
     "data": {
      "image/png": "[encoded data removed]",
      "text/plain": [
       "<Figure size 1600x640 with 1 Axes>"
      ]
     },
     "metadata": {
      "needs_background": "light"
     },
     "output_type": "display_data"
    }
   ],
   "source": [
    "plt.figure(figsize=(20,8),dpi=80)\n",
    "plt.hist(data_normal,1000)\n",
    "plt.show()"
   ]
  },
  {
   "cell_type": "code",
   "execution_count": null,
   "id": "4bc9d411",
   "metadata": {},
   "outputs": [],
   "source": []
  }
 ],
 "metadata": {
  "kernelspec": {
   "display_name": "Python 3 (ipykernel)",
   "language": "python",
   "name": "python3"
  },
  "language_info": {
   "codemirror_mode": {
    "name": "ipython",
    "version": 3
   },
   "file_extension": ".py",
   "mimetype": "text/x-python",
   "name": "python",
   "nbconvert_exporter": "python",
   "pygments_lexer": "ipython3",
   "version": "3.8.13"
  }
 },
 "nbformat": 4,
 "nbformat_minor": 5
}
