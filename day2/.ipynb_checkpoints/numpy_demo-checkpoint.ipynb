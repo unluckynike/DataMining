{
 "cells": [
  {
   "cell_type": "code",
   "execution_count": 4,
   "id": "5389e87b",
   "metadata": {},
   "outputs": [],
   "source": [
    "import numpy as np"
   ]
  },
  {
   "cell_type": "code",
   "execution_count": 5,
   "id": "966d755d",
   "metadata": {},
   "outputs": [],
   "source": [
    "# 分数数据\n",
    "socre=np.array([[80, 89, 86, 67, 79], \n",
    "[78, 97, 89, 67, 81],\n",
    "[90, 94, 78, 67, 74],\n",
    "[91, 91, 90, 67, 69],\n",
    "[76, 87, 75, 67, 86],\n",
    "[70, 79, 84, 67, 84],\n",
    "[94, 92, 93, 67, 64],\n",
    "[86, 85, 83, 67, 80]])"
   ]
  },
  {
   "cell_type": "code",
   "execution_count": 6,
   "id": "ddbcccb8",
   "metadata": {},
   "outputs": [
    {
     "data": {
      "text/plain": [
       "array([[80, 89, 86, 67, 79],\n",
       "       [78, 97, 89, 67, 81],\n",
       "       [90, 94, 78, 67, 74],\n",
       "       [91, 91, 90, 67, 69],\n",
       "       [76, 87, 75, 67, 86],\n",
       "       [70, 79, 84, 67, 84],\n",
       "       [94, 92, 93, 67, 64],\n",
       "       [86, 85, 83, 67, 80]])"
      ]
     },
     "execution_count": 6,
     "metadata": {},
     "output_type": "execute_result"
    }
   ],
   "source": [
    "socre"
   ]
  },
  {
   "cell_type": "code",
   "execution_count": 7,
   "id": "1379ee8b",
   "metadata": {},
   "outputs": [
    {
     "data": {
      "text/plain": [
       "numpy.ndarray"
      ]
     },
     "execution_count": 7,
     "metadata": {},
     "output_type": "execute_result"
    }
   ],
   "source": [
    "type(socre) # 查看数据类型"
   ]
  },
  {
   "cell_type": "markdown",
   "id": "e9a2ba02",
   "metadata": {},
   "source": [
    "#### ndarray与Python原生list运算效率对比\n",
    "  numpy专门对ndarray的操作和运算进行了设计，所以数组的存储效率和输入输出性能远远优于python中的嵌套列表，数组越大，numpy的优势越明显\n",
    "##### ndarray 优势原因\n",
    " - 存储风格   ndarray - 相同类型 - 通用性不强，  list - 不同类型 - 通用性很强\n",
    " - 并行化运算  ndarray支持向量化运算\n",
    " - 底层语言  C语言，内部解除了GIL"
   ]
  },
  {
   "cell_type": "code",
   "execution_count": 8,
   "id": "f9f2feb6",
   "metadata": {},
   "outputs": [
    {
     "name": "stdout",
     "output_type": "stream",
     "text": [
      "a len:  100000000\n",
      "a time : 1.6539902687072754, b time : 0.07365083694458008\n"
     ]
    }
   ],
   "source": [
    "import random\n",
    "import time\n",
    "import numpy as np\n",
    "\n",
    "a=[] \n",
    "\n",
    "for i in range(100000000): \n",
    "  a.append(random.random()) # 随机生成一亿个数\n",
    "print('a len: ',len(a))\n",
    "\n",
    "t1=time.time()\n",
    "sum1=sum(a)\n",
    "t2=time.time()\n",
    "time_a=t2-t1 #  计算运算时间\n",
    "\n",
    "b=np.array(a) # ndarray的计算速度要快很多，节约时间\n",
    "t3=time.time()\n",
    "sum2=np.sum(b)\n",
    "t4=time.time()\n",
    "time_b=t4-t3\n",
    "\n",
    "print(f'a time : {time_a}, b time : {time_b}')"
   ]
  },
  {
   "cell_type": "markdown",
   "id": "331e7f50",
   "metadata": {},
   "source": [
    "#### ndarray的属性\n",
    "  - shape  数组维度的元组\n",
    "     - ndim 数组维度\n",
    "     - size 数组中的元素数量\n",
    "  - dtype  数组元素的类型\n",
    "     - itemsize 一个数组元素的长度（字节）"
   ]
  },
  {
   "cell_type": "code",
   "execution_count": 9,
   "id": "735ca047",
   "metadata": {},
   "outputs": [
    {
     "data": {
      "text/plain": [
       "(8, 5)"
      ]
     },
     "execution_count": 9,
     "metadata": {},
     "output_type": "execute_result"
    }
   ],
   "source": [
    "socre.shape # 8行5列"
   ]
  },
  {
   "cell_type": "code",
   "execution_count": 10,
   "id": "ab2d2ca7",
   "metadata": {},
   "outputs": [
    {
     "data": {
      "text/plain": [
       "2"
      ]
     },
     "execution_count": 10,
     "metadata": {},
     "output_type": "execute_result"
    }
   ],
   "source": [
    "socre.ndim"
   ]
  },
  {
   "cell_type": "code",
   "execution_count": 11,
   "id": "b9a5d5eb",
   "metadata": {},
   "outputs": [
    {
     "data": {
      "text/plain": [
       "40"
      ]
     },
     "execution_count": 11,
     "metadata": {},
     "output_type": "execute_result"
    }
   ],
   "source": [
    "socre.size"
   ]
  },
  {
   "cell_type": "code",
   "execution_count": 12,
   "id": "21a01c5c",
   "metadata": {},
   "outputs": [
    {
     "data": {
      "text/plain": [
       "dtype('int64')"
      ]
     },
     "execution_count": 12,
     "metadata": {},
     "output_type": "execute_result"
    }
   ],
   "source": [
    "socre.dtype # 在创建ndarray的时候，如果没有指定类型  默认整数 int64, 浮点数 float64"
   ]
  },
  {
   "cell_type": "code",
   "execution_count": 13,
   "id": "d815f326",
   "metadata": {},
   "outputs": [
    {
     "data": {
      "text/plain": [
       "8"
      ]
     },
     "execution_count": 13,
     "metadata": {},
     "output_type": "execute_result"
    }
   ],
   "source": [
    "socre.itemsize"
   ]
  },
  {
   "cell_type": "markdown",
   "id": "129c0ea4",
   "metadata": {},
   "source": [
    "#### ndarray的形状"
   ]
  },
  {
   "cell_type": "code",
   "execution_count": 14,
   "id": "2b28ebf2",
   "metadata": {},
   "outputs": [],
   "source": [
    "a = np.array([[1,2,3],[4,5,6]])\n",
    "b = np.array([1,2,3,4])\n",
    "c = np.array([[[1,2,3],[4,5,6]],[[1,2,3],[4,5,6]]])"
   ]
  },
  {
   "cell_type": "code",
   "execution_count": 15,
   "id": "8ce6cd59",
   "metadata": {},
   "outputs": [
    {
     "data": {
      "text/plain": [
       "array([[1, 2, 3],\n",
       "       [4, 5, 6]])"
      ]
     },
     "execution_count": 15,
     "metadata": {},
     "output_type": "execute_result"
    }
   ],
   "source": [
    "a #（2，3）  二维 两行三列"
   ]
  },
  {
   "cell_type": "code",
   "execution_count": 16,
   "id": "9be75717",
   "metadata": {},
   "outputs": [
    {
     "data": {
      "text/plain": [
       "array([1, 2, 3, 4])"
      ]
     },
     "execution_count": 16,
     "metadata": {},
     "output_type": "execute_result"
    }
   ],
   "source": [
    "b #（4，） 一维"
   ]
  },
  {
   "cell_type": "code",
   "execution_count": 17,
   "id": "96df49eb",
   "metadata": {},
   "outputs": [
    {
     "data": {
      "text/plain": [
       "array([[[1, 2, 3],\n",
       "        [4, 5, 6]],\n",
       "\n",
       "       [[1, 2, 3],\n",
       "        [4, 5, 6]]])"
      ]
     },
     "execution_count": 17,
     "metadata": {},
     "output_type": "execute_result"
    }
   ],
   "source": [
    "c #（2，2，3）  三个中括号 三维 "
   ]
  },
  {
   "cell_type": "code",
   "execution_count": 18,
   "id": "f11ea462",
   "metadata": {},
   "outputs": [
    {
     "data": {
      "text/plain": [
       "(2, 3)"
      ]
     },
     "execution_count": 18,
     "metadata": {},
     "output_type": "execute_result"
    }
   ],
   "source": [
    "a.shape"
   ]
  },
  {
   "cell_type": "code",
   "execution_count": 19,
   "id": "c1cebfa2",
   "metadata": {},
   "outputs": [
    {
     "data": {
      "text/plain": [
       "(4,)"
      ]
     },
     "execution_count": 19,
     "metadata": {},
     "output_type": "execute_result"
    }
   ],
   "source": [
    "b.shape"
   ]
  },
  {
   "cell_type": "code",
   "execution_count": 20,
   "id": "f3c043dc",
   "metadata": {},
   "outputs": [
    {
     "data": {
      "text/plain": [
       "(2, 2, 3)"
      ]
     },
     "execution_count": 20,
     "metadata": {},
     "output_type": "execute_result"
    }
   ],
   "source": [
    "c.shape"
   ]
  },
  {
   "cell_type": "markdown",
   "id": "eaa15b27",
   "metadata": {},
   "source": [
    "#### ndarray 类型"
   ]
  },
  {
   "cell_type": "code",
   "execution_count": 21,
   "id": "ebb7ae29",
   "metadata": {},
   "outputs": [],
   "source": [
    "data = np.array([1.1, 2.2, 3.3]) #  若不指定 默认float64"
   ]
  },
  {
   "cell_type": "code",
   "execution_count": 22,
   "id": "aa7fb68d",
   "metadata": {},
   "outputs": [
    {
     "data": {
      "text/plain": [
       "array([1.1, 2.2, 3.3])"
      ]
     },
     "execution_count": 22,
     "metadata": {},
     "output_type": "execute_result"
    }
   ],
   "source": [
    "data"
   ]
  },
  {
   "cell_type": "code",
   "execution_count": 23,
   "id": "6a0a77c9",
   "metadata": {},
   "outputs": [
    {
     "data": {
      "text/plain": [
       "dtype('float64')"
      ]
     },
     "execution_count": 23,
     "metadata": {},
     "output_type": "execute_result"
    }
   ],
   "source": [
    "data.dtype"
   ]
  },
  {
   "cell_type": "code",
   "execution_count": 24,
   "id": "49e622cc",
   "metadata": {},
   "outputs": [
    {
     "data": {
      "text/plain": [
       "array([1.1, 2.2, 3.3], dtype=float32)"
      ]
     },
     "execution_count": 24,
     "metadata": {},
     "output_type": "execute_result"
    }
   ],
   "source": [
    "# 创建指定类型的\n",
    "np.array([1.1,2.2,3.3],dtype=\"float32\")"
   ]
  },
  {
   "cell_type": "code",
   "execution_count": 25,
   "id": "d728e32d",
   "metadata": {},
   "outputs": [
    {
     "data": {
      "text/plain": [
       "array([1.1, 2.2, 3.3], dtype=float32)"
      ]
     },
     "execution_count": 25,
     "metadata": {},
     "output_type": "execute_result"
    }
   ],
   "source": [
    "np.array([1.1,2.2,3.3],dtype=np.float32)"
   ]
  },
  {
   "cell_type": "markdown",
   "id": "1761a827",
   "metadata": {},
   "source": [
    "#### 基本操作\n",
    "   - 生成0和1的数组\n",
    "      1. np.zeros(shape)\n",
    "      2. np.ones(shape\n",
    "   - 从现有的数组中生成\n",
    "      1. np.array()， np.copy() 深拷贝\n",
    "      2. np.asarray() 浅拷贝\n",
    "   - 生存固定范围的数组\n",
    "      1. np.linspace(，，，) 左闭右闭 等距离  前两个参数是范围 第三个是数量\n",
    "      2. np.arange() 左闭右开 第三个参数是步长\n",
    "   - 生存随机数组"
   ]
  },
  {
   "cell_type": "markdown",
   "id": "99a3da54",
   "metadata": {},
   "source": [
    "#### 生成0和1的数组"
   ]
  },
  {
   "cell_type": "code",
   "execution_count": 26,
   "id": "a18a7801",
   "metadata": {},
   "outputs": [
    {
     "data": {
      "text/plain": [
       "array([[0., 0., 0., 0.],\n",
       "       [0., 0., 0., 0.],\n",
       "       [0., 0., 0., 0.]], dtype=float32)"
      ]
     },
     "execution_count": 26,
     "metadata": {},
     "output_type": "execute_result"
    }
   ],
   "source": [
    "np.zeros(shape=(3,4),dtype='float32') # 全零数组 可指定类型"
   ]
  },
  {
   "cell_type": "code",
   "execution_count": 27,
   "id": "fb69adc6",
   "metadata": {},
   "outputs": [
    {
     "data": {
      "text/plain": [
       "dtype('float64')"
      ]
     },
     "execution_count": 27,
     "metadata": {},
     "output_type": "execute_result"
    }
   ],
   "source": [
    "np.zeros(shape=(2,2)).dtype"
   ]
  },
  {
   "cell_type": "code",
   "execution_count": 28,
   "id": "b320565a",
   "metadata": {},
   "outputs": [
    {
     "data": {
      "text/plain": [
       "array([[1., 1., 1., 1., 1.],\n",
       "       [1., 1., 1., 1., 1.],\n",
       "       [1., 1., 1., 1., 1.],\n",
       "       [1., 1., 1., 1., 1.],\n",
       "       [1., 1., 1., 1., 1.]])"
      ]
     },
     "execution_count": 28,
     "metadata": {},
     "output_type": "execute_result"
    }
   ],
   "source": [
    "np.ones(shape=(5,5)) # 全一数组 "
   ]
  },
  {
   "cell_type": "code",
   "execution_count": 29,
   "id": "2e91b82f",
   "metadata": {},
   "outputs": [
    {
     "data": {
      "text/plain": [
       "dtype('float64')"
      ]
     },
     "execution_count": 29,
     "metadata": {},
     "output_type": "execute_result"
    }
   ],
   "source": [
    "(np.ones(shape=(2,2))).dtype"
   ]
  },
  {
   "cell_type": "markdown",
   "id": "9ba95749",
   "metadata": {},
   "source": [
    "#### 从现有的数组中生成"
   ]
  },
  {
   "cell_type": "code",
   "execution_count": 30,
   "id": "bc1318c6",
   "metadata": {},
   "outputs": [
    {
     "data": {
      "text/plain": [
       "array([[80, 89, 86, 67, 79],\n",
       "       [78, 97, 89, 67, 81],\n",
       "       [90, 94, 78, 67, 74],\n",
       "       [91, 91, 90, 67, 69],\n",
       "       [76, 87, 75, 67, 86],\n",
       "       [70, 79, 84, 67, 84],\n",
       "       [94, 92, 93, 67, 64],\n",
       "       [86, 85, 83, 67, 80]])"
      ]
     },
     "execution_count": 30,
     "metadata": {},
     "output_type": "execute_result"
    }
   ],
   "source": [
    "socre # 前面的分数数据"
   ]
  },
  {
   "cell_type": "code",
   "execution_count": 31,
   "id": "1fa279cf",
   "metadata": {},
   "outputs": [],
   "source": [
    "data1=np.array(socre)"
   ]
  },
  {
   "cell_type": "code",
   "execution_count": 32,
   "id": "a4a4cd9e",
   "metadata": {},
   "outputs": [
    {
     "data": {
      "text/plain": [
       "array([[80, 89, 86, 67, 79],\n",
       "       [78, 97, 89, 67, 81],\n",
       "       [90, 94, 78, 67, 74],\n",
       "       [91, 91, 90, 67, 69],\n",
       "       [76, 87, 75, 67, 86],\n",
       "       [70, 79, 84, 67, 84],\n",
       "       [94, 92, 93, 67, 64],\n",
       "       [86, 85, 83, 67, 80]])"
      ]
     },
     "execution_count": 32,
     "metadata": {},
     "output_type": "execute_result"
    }
   ],
   "source": [
    "data1 # "
   ]
  },
  {
   "cell_type": "code",
   "execution_count": 33,
   "id": "d7a3df17",
   "metadata": {},
   "outputs": [],
   "source": [
    "data2=np.asarray(socre)"
   ]
  },
  {
   "cell_type": "code",
   "execution_count": 34,
   "id": "646fc6d7",
   "metadata": {},
   "outputs": [
    {
     "data": {
      "text/plain": [
       "array([[80, 89, 86, 67, 79],\n",
       "       [78, 97, 89, 67, 81],\n",
       "       [90, 94, 78, 67, 74],\n",
       "       [91, 91, 90, 67, 69],\n",
       "       [76, 87, 75, 67, 86],\n",
       "       [70, 79, 84, 67, 84],\n",
       "       [94, 92, 93, 67, 64],\n",
       "       [86, 85, 83, 67, 80]])"
      ]
     },
     "execution_count": 34,
     "metadata": {},
     "output_type": "execute_result"
    }
   ],
   "source": [
    "data2"
   ]
  },
  {
   "cell_type": "code",
   "execution_count": 35,
   "id": "16712e16",
   "metadata": {},
   "outputs": [],
   "source": [
    "data3=np.copy(socre)"
   ]
  },
  {
   "cell_type": "code",
   "execution_count": 36,
   "id": "0e249787",
   "metadata": {},
   "outputs": [
    {
     "data": {
      "text/plain": [
       "array([[80, 89, 86, 67, 79],\n",
       "       [78, 97, 89, 67, 81],\n",
       "       [90, 94, 78, 67, 74],\n",
       "       [91, 91, 90, 67, 69],\n",
       "       [76, 87, 75, 67, 86],\n",
       "       [70, 79, 84, 67, 84],\n",
       "       [94, 92, 93, 67, 64],\n",
       "       [86, 85, 83, 67, 80]])"
      ]
     },
     "execution_count": 36,
     "metadata": {},
     "output_type": "execute_result"
    }
   ],
   "source": [
    "data3"
   ]
  },
  {
   "cell_type": "code",
   "execution_count": 37,
   "id": "c8c9195e",
   "metadata": {},
   "outputs": [],
   "source": [
    "# 改个数据 数组下标从0开始 此处改的是第四行第二列 下标为（3，1）\n",
    "socre[3,1]=9999"
   ]
  },
  {
   "cell_type": "code",
   "execution_count": 38,
   "id": "ce3e1620",
   "metadata": {},
   "outputs": [
    {
     "data": {
      "text/plain": [
       "array([[  80,   89,   86,   67,   79],\n",
       "       [  78,   97,   89,   67,   81],\n",
       "       [  90,   94,   78,   67,   74],\n",
       "       [  91, 9999,   90,   67,   69],\n",
       "       [  76,   87,   75,   67,   86],\n",
       "       [  70,   79,   84,   67,   84],\n",
       "       [  94,   92,   93,   67,   64],\n",
       "       [  86,   85,   83,   67,   80]])"
      ]
     },
     "execution_count": 38,
     "metadata": {},
     "output_type": "execute_result"
    }
   ],
   "source": [
    "socre"
   ]
  },
  {
   "cell_type": "code",
   "execution_count": 39,
   "id": "b85459ca",
   "metadata": {},
   "outputs": [
    {
     "data": {
      "text/plain": [
       "array([[80, 89, 86, 67, 79],\n",
       "       [78, 97, 89, 67, 81],\n",
       "       [90, 94, 78, 67, 74],\n",
       "       [91, 91, 90, 67, 69],\n",
       "       [76, 87, 75, 67, 86],\n",
       "       [70, 79, 84, 67, 84],\n",
       "       [94, 92, 93, 67, 64],\n",
       "       [86, 85, 83, 67, 80]])"
      ]
     },
     "execution_count": 39,
     "metadata": {},
     "output_type": "execute_result"
    }
   ],
   "source": [
    "data1 # 不受原始score影响 深拷贝"
   ]
  },
  {
   "cell_type": "code",
   "execution_count": 40,
   "id": "bc954ebe",
   "metadata": {},
   "outputs": [
    {
     "data": {
      "text/plain": [
       "array([[  80,   89,   86,   67,   79],\n",
       "       [  78,   97,   89,   67,   81],\n",
       "       [  90,   94,   78,   67,   74],\n",
       "       [  91, 9999,   90,   67,   69],\n",
       "       [  76,   87,   75,   67,   86],\n",
       "       [  70,   79,   84,   67,   84],\n",
       "       [  94,   92,   93,   67,   64],\n",
       "       [  86,   85,   83,   67,   80]])"
      ]
     },
     "execution_count": 40,
     "metadata": {},
     "output_type": "execute_result"
    }
   ],
   "source": [
    "data2  # 值改变了 浅拷贝"
   ]
  },
  {
   "cell_type": "code",
   "execution_count": 41,
   "id": "47913a24",
   "metadata": {},
   "outputs": [
    {
     "data": {
      "text/plain": [
       "array([[80, 89, 86, 67, 79],\n",
       "       [78, 97, 89, 67, 81],\n",
       "       [90, 94, 78, 67, 74],\n",
       "       [91, 91, 90, 67, 69],\n",
       "       [76, 87, 75, 67, 86],\n",
       "       [70, 79, 84, 67, 84],\n",
       "       [94, 92, 93, 67, 64],\n",
       "       [86, 85, 83, 67, 80]])"
      ]
     },
     "execution_count": 41,
     "metadata": {},
     "output_type": "execute_result"
    }
   ],
   "source": [
    "data3"
   ]
  },
  {
   "cell_type": "markdown",
   "id": "bbe16f1f",
   "metadata": {},
   "source": [
    "#### 生成固定范围数组"
   ]
  },
  {
   "cell_type": "code",
   "execution_count": 42,
   "id": "519a10c5",
   "metadata": {},
   "outputs": [
    {
     "data": {
      "text/plain": [
       "array([ 0. ,  2.5,  5. ,  7.5, 10. ])"
      ]
     },
     "execution_count": 42,
     "metadata": {},
     "output_type": "execute_result"
    }
   ],
   "source": [
    "np.linspace(0,10,5)"
   ]
  },
  {
   "cell_type": "code",
   "execution_count": 43,
   "id": "c9725ef6",
   "metadata": {},
   "outputs": [
    {
     "data": {
      "text/plain": [
       "array([0, 2, 4, 6, 8])"
      ]
     },
     "execution_count": 43,
     "metadata": {},
     "output_type": "execute_result"
    }
   ],
   "source": [
    "np.arange(0,10,2)"
   ]
  },
  {
   "cell_type": "markdown",
   "id": "6e6fe871",
   "metadata": {},
   "source": [
    "#### 生成随机数组\n",
    "   - 均匀分布\n",
    "   - 正太分布"
   ]
  },
  {
   "cell_type": "code",
   "execution_count": 44,
   "id": "66c206d4",
   "metadata": {},
   "outputs": [],
   "source": [
    " # 均匀分布 可能性相等\n",
    "data_uniform=np.random.uniform(low=-1,high=1,size=1000000) # -1到1之间生成一百万个"
   ]
  },
  {
   "cell_type": "code",
   "execution_count": 45,
   "id": "21310aa1",
   "metadata": {},
   "outputs": [
    {
     "data": {
      "text/plain": [
       "array([ 0.2739347 ,  0.10895317,  0.59142316, ..., -0.94519533,\n",
       "        0.38792647,  0.54147713])"
      ]
     },
     "execution_count": 45,
     "metadata": {},
     "output_type": "execute_result"
    }
   ],
   "source": [
    "data_uniform"
   ]
  },
  {
   "cell_type": "code",
   "execution_count": 46,
   "id": "7f54ff23",
   "metadata": {},
   "outputs": [],
   "source": [
    "import matplotlib.pyplot as plt"
   ]
  },
  {
   "cell_type": "code",
   "execution_count": 47,
   "id": "fcd262d8",
   "metadata": {},
   "outputs": [
    {
     "data": {
      "image/png": "[encoded data removed]",
      "text/plain": [
       "<Figure size 1600x640 with 1 Axes>"
      ]
     },
     "metadata": {
      "needs_background": "light"
     },
     "output_type": "display_data"
    }
   ],
   "source": [
    "# 1创建画布\n",
    "plt.figure(figsize=(20,8),dpi=80)\n",
    "# 2绘制图像\n",
    "plt.hist(data_uniform,1000) # 分一千组\n",
    "# 3显示图像\n",
    "plt.show()"
   ]
  },
  {
   "cell_type": "code",
   "execution_count": 48,
   "id": "b4b896c9",
   "metadata": {},
   "outputs": [],
   "source": [
    "# 正太分布\n",
    "data_normal=np.random.normal(loc=1.75,scale=0.1,size=1000000)"
   ]
  },
  {
   "cell_type": "code",
   "execution_count": 49,
   "id": "9ad5d789",
   "metadata": {},
   "outputs": [
    {
     "data": {
      "text/plain": [
       "array([1.7041405 , 1.81922487, 1.64608008, ..., 1.91713934, 1.8978974 ,\n",
       "       1.77999991])"
      ]
     },
     "execution_count": 49,
     "metadata": {},
     "output_type": "execute_result"
    }
   ],
   "source": [
    "data_normal"
   ]
  },
  {
   "cell_type": "code",
   "execution_count": 50,
   "id": "8bdbd9a2",
   "metadata": {},
   "outputs": [
    {
     "data": {
      "image/png": "[encoded data removed]",
      "text/plain": [
       "<Figure size 1600x640 with 1 Axes>"
      ]
     },
     "metadata": {
      "needs_background": "light"
     },
     "output_type": "display_data"
    }
   ],
   "source": [
    "plt.figure(figsize=(20,8),dpi=80)\n",
    "plt.hist(data_normal,1000)\n",
    "plt.show()"
   ]
  },
  {
   "cell_type": "markdown",
   "id": "bed47d7d",
   "metadata": {},
   "source": [
    "#### 案例：随机生成8只股票2周的交易日涨幅数据"
   ]
  },
  {
   "cell_type": "code",
   "execution_count": 51,
   "id": "d2486f6f",
   "metadata": {},
   "outputs": [],
   "source": [
    "stock=np.random.normal(loc=0,scale=1,size=(8,10))#  八只 十天交易日"
   ]
  },
  {
   "cell_type": "code",
   "execution_count": 52,
   "id": "f966d5cc",
   "metadata": {},
   "outputs": [
    {
     "data": {
      "text/plain": [
       "array([ 1.54906672,  1.60527895, -0.49429249])"
      ]
     },
     "execution_count": 52,
     "metadata": {},
     "output_type": "execute_result"
    }
   ],
   "source": [
    "# 获取第一个股票的前3个交易日的涨跌幅数据\n",
    "stock[0,:3]"
   ]
  },
  {
   "cell_type": "code",
   "execution_count": 53,
   "id": "4f2ccf38",
   "metadata": {},
   "outputs": [],
   "source": [
    "# 获取三维数据\n",
    "a1 = np.array([ [[1,2,3],[4,5,6]], [[12,3,34],[5,6,7]]])"
   ]
  },
  {
   "cell_type": "code",
   "execution_count": 54,
   "id": "330d9b55",
   "metadata": {},
   "outputs": [
    {
     "data": {
      "text/plain": [
       "array([[[ 1,  2,  3],\n",
       "        [ 4,  5,  6]],\n",
       "\n",
       "       [[12,  3, 34],\n",
       "        [ 5,  6,  7]]])"
      ]
     },
     "execution_count": 54,
     "metadata": {},
     "output_type": "execute_result"
    }
   ],
   "source": [
    "a1"
   ]
  },
  {
   "cell_type": "code",
   "execution_count": 55,
   "id": "e3a9f596",
   "metadata": {},
   "outputs": [
    {
     "data": {
      "text/plain": [
       "(2, 2, 3)"
      ]
     },
     "execution_count": 55,
     "metadata": {},
     "output_type": "execute_result"
    }
   ],
   "source": [
    "a1.shape"
   ]
  },
  {
   "cell_type": "markdown",
   "id": "37d01203",
   "metadata": {},
   "source": [
    "#### 切片索引"
   ]
  },
  {
   "cell_type": "code",
   "execution_count": 56,
   "id": "853845d5",
   "metadata": {},
   "outputs": [
    {
     "data": {
      "text/plain": [
       "34"
      ]
     },
     "execution_count": 56,
     "metadata": {},
     "output_type": "execute_result"
    }
   ],
   "source": [
    "# 获取34\n",
    "a1[1,0,2]"
   ]
  },
  {
   "cell_type": "code",
   "execution_count": 57,
   "id": "2308a445",
   "metadata": {},
   "outputs": [
    {
     "data": {
      "text/plain": [
       "7"
      ]
     },
     "execution_count": 57,
     "metadata": {},
     "output_type": "execute_result"
    }
   ],
   "source": [
    "# 获取7\n",
    "a1[1,1,2]"
   ]
  },
  {
   "cell_type": "code",
   "execution_count": 58,
   "id": "51358e91",
   "metadata": {},
   "outputs": [
    {
     "data": {
      "text/plain": [
       "5"
      ]
     },
     "execution_count": 58,
     "metadata": {},
     "output_type": "execute_result"
    }
   ],
   "source": [
    "# 获取5\n",
    "a1[0,1,1]"
   ]
  },
  {
   "cell_type": "code",
   "execution_count": 59,
   "id": "6402a89a",
   "metadata": {},
   "outputs": [],
   "source": [
    "# 修改6为9999\n",
    "a1[1,1,1]=9999"
   ]
  },
  {
   "cell_type": "code",
   "execution_count": 60,
   "id": "884a7bca",
   "metadata": {},
   "outputs": [
    {
     "data": {
      "text/plain": [
       "array([[[   1,    2,    3],\n",
       "        [   4,    5,    6]],\n",
       "\n",
       "       [[  12,    3,   34],\n",
       "        [   5, 9999,    7]]])"
      ]
     },
     "execution_count": 60,
     "metadata": {},
     "output_type": "execute_result"
    }
   ],
   "source": [
    "a1"
   ]
  },
  {
   "cell_type": "markdown",
   "id": "1f2d2325",
   "metadata": {},
   "source": [
    "####  形状修改\n",
    "   - ndarray.reshape(shape) 返回新的ndarray，原始数据没有改变\n",
    "   - ndarray.resize(shape) 没有返回值，对原始的ndarray进行了修改\n",
    "   - ndarray.T 转置 行变成列，列变成行"
   ]
  },
  {
   "cell_type": "code",
   "execution_count": 61,
   "id": "ac425aa6",
   "metadata": {},
   "outputs": [
    {
     "data": {
      "text/plain": [
       "array([[ 1.54906672,  1.60527895, -0.49429249, -0.61554882, -1.41993532,\n",
       "        -0.58749391,  0.4688577 , -0.09662279,  1.74787514, -0.27080922],\n",
       "       [ 0.24750617,  0.94776136,  1.07599016, -0.80266864, -0.6330987 ,\n",
       "        -0.47536036,  1.06018796,  0.5557289 ,  1.23638063,  0.13319748],\n",
       "       [-1.0395917 ,  0.56776159, -0.49581714, -2.27941663, -0.87127106,\n",
       "         1.18665037,  0.28175304,  0.27476704, -0.76388968,  0.30023764],\n",
       "       [-1.51597618,  0.08913121,  0.0246348 ,  0.9972219 , -0.09651101,\n",
       "        -0.93876937,  0.45579564,  1.83057304, -1.19874427,  0.23498019],\n",
       "       [-0.72142541, -0.71959396,  0.88189649,  1.57746894, -0.21471632,\n",
       "        -0.51709765, -0.08471918,  0.40406847,  0.59925704, -0.88651055],\n",
       "       [ 0.81827629,  0.07495921,  1.29706059,  0.58403389,  0.98297411,\n",
       "         0.69125746,  1.21155483, -0.37050221,  1.17447533, -0.39726302],\n",
       "       [-0.89223487,  0.97187391,  0.24914286,  1.56504232, -0.17709359,\n",
       "        -0.5547677 ,  1.07114674, -0.11971759,  0.34925015, -0.45134151],\n",
       "       [ 0.06800622,  0.59336028, -0.87988534,  0.52304828, -0.55282613,\n",
       "        -1.15970897,  0.19221025, -0.21040208, -0.99864105, -2.09391169]])"
      ]
     },
     "execution_count": 61,
     "metadata": {},
     "output_type": "execute_result"
    }
   ],
   "source": [
    "stock"
   ]
  },
  {
   "cell_type": "code",
   "execution_count": 62,
   "id": "650cc4e7",
   "metadata": {},
   "outputs": [
    {
     "data": {
      "text/plain": [
       "(8, 10)"
      ]
     },
     "execution_count": 62,
     "metadata": {},
     "output_type": "execute_result"
    }
   ],
   "source": [
    "stock.shape"
   ]
  },
  {
   "cell_type": "code",
   "execution_count": 63,
   "id": "49b50ac2",
   "metadata": {},
   "outputs": [
    {
     "data": {
      "text/plain": [
       "array([[ 1.54906672,  1.60527895, -0.49429249, -0.61554882, -1.41993532,\n",
       "        -0.58749391,  0.4688577 , -0.09662279],\n",
       "       [ 1.74787514, -0.27080922,  0.24750617,  0.94776136,  1.07599016,\n",
       "        -0.80266864, -0.6330987 , -0.47536036],\n",
       "       [ 1.06018796,  0.5557289 ,  1.23638063,  0.13319748, -1.0395917 ,\n",
       "         0.56776159, -0.49581714, -2.27941663],\n",
       "       [-0.87127106,  1.18665037,  0.28175304,  0.27476704, -0.76388968,\n",
       "         0.30023764, -1.51597618,  0.08913121],\n",
       "       [ 0.0246348 ,  0.9972219 , -0.09651101, -0.93876937,  0.45579564,\n",
       "         1.83057304, -1.19874427,  0.23498019],\n",
       "       [-0.72142541, -0.71959396,  0.88189649,  1.57746894, -0.21471632,\n",
       "        -0.51709765, -0.08471918,  0.40406847],\n",
       "       [ 0.59925704, -0.88651055,  0.81827629,  0.07495921,  1.29706059,\n",
       "         0.58403389,  0.98297411,  0.69125746],\n",
       "       [ 1.21155483, -0.37050221,  1.17447533, -0.39726302, -0.89223487,\n",
       "         0.97187391,  0.24914286,  1.56504232],\n",
       "       [-0.17709359, -0.5547677 ,  1.07114674, -0.11971759,  0.34925015,\n",
       "        -0.45134151,  0.06800622,  0.59336028],\n",
       "       [-0.87988534,  0.52304828, -0.55282613, -1.15970897,  0.19221025,\n",
       "        -0.21040208, -0.99864105, -2.09391169]])"
      ]
     },
     "execution_count": 63,
     "metadata": {},
     "output_type": "execute_result"
    }
   ],
   "source": [
    "stock.reshape(10,8) # 返回新的ndarray，原始数据没有改变"
   ]
  },
  {
   "cell_type": "code",
   "execution_count": 64,
   "id": "661ab749",
   "metadata": {},
   "outputs": [
    {
     "data": {
      "text/plain": [
       "array([[ 1.54906672,  1.60527895, -0.49429249, -0.61554882, -1.41993532,\n",
       "        -0.58749391,  0.4688577 , -0.09662279,  1.74787514, -0.27080922],\n",
       "       [ 0.24750617,  0.94776136,  1.07599016, -0.80266864, -0.6330987 ,\n",
       "        -0.47536036,  1.06018796,  0.5557289 ,  1.23638063,  0.13319748],\n",
       "       [-1.0395917 ,  0.56776159, -0.49581714, -2.27941663, -0.87127106,\n",
       "         1.18665037,  0.28175304,  0.27476704, -0.76388968,  0.30023764],\n",
       "       [-1.51597618,  0.08913121,  0.0246348 ,  0.9972219 , -0.09651101,\n",
       "        -0.93876937,  0.45579564,  1.83057304, -1.19874427,  0.23498019],\n",
       "       [-0.72142541, -0.71959396,  0.88189649,  1.57746894, -0.21471632,\n",
       "        -0.51709765, -0.08471918,  0.40406847,  0.59925704, -0.88651055],\n",
       "       [ 0.81827629,  0.07495921,  1.29706059,  0.58403389,  0.98297411,\n",
       "         0.69125746,  1.21155483, -0.37050221,  1.17447533, -0.39726302],\n",
       "       [-0.89223487,  0.97187391,  0.24914286,  1.56504232, -0.17709359,\n",
       "        -0.5547677 ,  1.07114674, -0.11971759,  0.34925015, -0.45134151],\n",
       "       [ 0.06800622,  0.59336028, -0.87988534,  0.52304828, -0.55282613,\n",
       "        -1.15970897,  0.19221025, -0.21040208, -0.99864105, -2.09391169]])"
      ]
     },
     "execution_count": 64,
     "metadata": {},
     "output_type": "execute_result"
    }
   ],
   "source": [
    "stock"
   ]
  },
  {
   "cell_type": "code",
   "execution_count": 65,
   "id": "d280008b",
   "metadata": {},
   "outputs": [],
   "source": [
    "stock.resize(10,8)"
   ]
  },
  {
   "cell_type": "code",
   "execution_count": 66,
   "id": "5ac82ae6",
   "metadata": {},
   "outputs": [
    {
     "data": {
      "text/plain": [
       "(10, 8)"
      ]
     },
     "execution_count": 66,
     "metadata": {},
     "output_type": "execute_result"
    }
   ],
   "source": [
    "stock.shape # 没有返回值，对原始的ndarray进行了修改"
   ]
  },
  {
   "cell_type": "code",
   "execution_count": 67,
   "id": "e2682bbf",
   "metadata": {},
   "outputs": [
    {
     "data": {
      "text/plain": [
       "array([[ 1.54906672,  1.60527895, -0.49429249, -0.61554882, -1.41993532,\n",
       "        -0.58749391,  0.4688577 , -0.09662279],\n",
       "       [ 1.74787514, -0.27080922,  0.24750617,  0.94776136,  1.07599016,\n",
       "        -0.80266864, -0.6330987 , -0.47536036],\n",
       "       [ 1.06018796,  0.5557289 ,  1.23638063,  0.13319748, -1.0395917 ,\n",
       "         0.56776159, -0.49581714, -2.27941663],\n",
       "       [-0.87127106,  1.18665037,  0.28175304,  0.27476704, -0.76388968,\n",
       "         0.30023764, -1.51597618,  0.08913121],\n",
       "       [ 0.0246348 ,  0.9972219 , -0.09651101, -0.93876937,  0.45579564,\n",
       "         1.83057304, -1.19874427,  0.23498019],\n",
       "       [-0.72142541, -0.71959396,  0.88189649,  1.57746894, -0.21471632,\n",
       "        -0.51709765, -0.08471918,  0.40406847],\n",
       "       [ 0.59925704, -0.88651055,  0.81827629,  0.07495921,  1.29706059,\n",
       "         0.58403389,  0.98297411,  0.69125746],\n",
       "       [ 1.21155483, -0.37050221,  1.17447533, -0.39726302, -0.89223487,\n",
       "         0.97187391,  0.24914286,  1.56504232],\n",
       "       [-0.17709359, -0.5547677 ,  1.07114674, -0.11971759,  0.34925015,\n",
       "        -0.45134151,  0.06800622,  0.59336028],\n",
       "       [-0.87988534,  0.52304828, -0.55282613, -1.15970897,  0.19221025,\n",
       "        -0.21040208, -0.99864105, -2.09391169]])"
      ]
     },
     "execution_count": 67,
     "metadata": {},
     "output_type": "execute_result"
    }
   ],
   "source": [
    "stock"
   ]
  },
  {
   "cell_type": "code",
   "execution_count": 68,
   "id": "a57f1f08",
   "metadata": {},
   "outputs": [
    {
     "data": {
      "text/plain": [
       "array([[ 1.54906672,  1.74787514,  1.06018796, -0.87127106,  0.0246348 ,\n",
       "        -0.72142541,  0.59925704,  1.21155483, -0.17709359, -0.87988534],\n",
       "       [ 1.60527895, -0.27080922,  0.5557289 ,  1.18665037,  0.9972219 ,\n",
       "        -0.71959396, -0.88651055, -0.37050221, -0.5547677 ,  0.52304828],\n",
       "       [-0.49429249,  0.24750617,  1.23638063,  0.28175304, -0.09651101,\n",
       "         0.88189649,  0.81827629,  1.17447533,  1.07114674, -0.55282613],\n",
       "       [-0.61554882,  0.94776136,  0.13319748,  0.27476704, -0.93876937,\n",
       "         1.57746894,  0.07495921, -0.39726302, -0.11971759, -1.15970897],\n",
       "       [-1.41993532,  1.07599016, -1.0395917 , -0.76388968,  0.45579564,\n",
       "        -0.21471632,  1.29706059, -0.89223487,  0.34925015,  0.19221025],\n",
       "       [-0.58749391, -0.80266864,  0.56776159,  0.30023764,  1.83057304,\n",
       "        -0.51709765,  0.58403389,  0.97187391, -0.45134151, -0.21040208],\n",
       "       [ 0.4688577 , -0.6330987 , -0.49581714, -1.51597618, -1.19874427,\n",
       "        -0.08471918,  0.98297411,  0.24914286,  0.06800622, -0.99864105],\n",
       "       [-0.09662279, -0.47536036, -2.27941663,  0.08913121,  0.23498019,\n",
       "         0.40406847,  0.69125746,  1.56504232,  0.59336028, -2.09391169]])"
      ]
     },
     "execution_count": 68,
     "metadata": {},
     "output_type": "execute_result"
    }
   ],
   "source": [
    "stock.T # 转置"
   ]
  },
  {
   "cell_type": "code",
   "execution_count": 69,
   "id": "ae3cb832",
   "metadata": {},
   "outputs": [
    {
     "data": {
      "text/plain": [
       "(10, 8)"
      ]
     },
     "execution_count": 69,
     "metadata": {},
     "output_type": "execute_result"
    }
   ],
   "source": [
    "stock.shape"
   ]
  },
  {
   "cell_type": "code",
   "execution_count": 70,
   "id": "8f96eb8e",
   "metadata": {},
   "outputs": [
    {
     "data": {
      "text/plain": [
       "array([[ 1.54906672,  1.60527895, -0.49429249, -0.61554882, -1.41993532,\n",
       "        -0.58749391,  0.4688577 , -0.09662279],\n",
       "       [ 1.74787514, -0.27080922,  0.24750617,  0.94776136,  1.07599016,\n",
       "        -0.80266864, -0.6330987 , -0.47536036],\n",
       "       [ 1.06018796,  0.5557289 ,  1.23638063,  0.13319748, -1.0395917 ,\n",
       "         0.56776159, -0.49581714, -2.27941663],\n",
       "       [-0.87127106,  1.18665037,  0.28175304,  0.27476704, -0.76388968,\n",
       "         0.30023764, -1.51597618,  0.08913121],\n",
       "       [ 0.0246348 ,  0.9972219 , -0.09651101, -0.93876937,  0.45579564,\n",
       "         1.83057304, -1.19874427,  0.23498019],\n",
       "       [-0.72142541, -0.71959396,  0.88189649,  1.57746894, -0.21471632,\n",
       "        -0.51709765, -0.08471918,  0.40406847],\n",
       "       [ 0.59925704, -0.88651055,  0.81827629,  0.07495921,  1.29706059,\n",
       "         0.58403389,  0.98297411,  0.69125746],\n",
       "       [ 1.21155483, -0.37050221,  1.17447533, -0.39726302, -0.89223487,\n",
       "         0.97187391,  0.24914286,  1.56504232],\n",
       "       [-0.17709359, -0.5547677 ,  1.07114674, -0.11971759,  0.34925015,\n",
       "        -0.45134151,  0.06800622,  0.59336028],\n",
       "       [-0.87988534,  0.52304828, -0.55282613, -1.15970897,  0.19221025,\n",
       "        -0.21040208, -0.99864105, -2.09391169]])"
      ]
     },
     "execution_count": 70,
     "metadata": {},
     "output_type": "execute_result"
    }
   ],
   "source": [
    "stock"
   ]
  },
  {
   "cell_type": "markdown",
   "id": "0fcf75d0",
   "metadata": {},
   "source": [
    "#### 类型修改\n",
    "   - ndarray.astype(type)\n",
    "   - ndarray序列化到本地\n",
    "   - ndarray.tostring()"
   ]
  },
  {
   "cell_type": "code",
   "execution_count": 71,
   "id": "7d68e56c",
   "metadata": {},
   "outputs": [
    {
     "data": {
      "text/plain": [
       "array([[ 1,  1,  0,  0, -1,  0,  0,  0],\n",
       "       [ 1,  0,  0,  0,  1,  0,  0,  0],\n",
       "       [ 1,  0,  1,  0, -1,  0,  0, -2],\n",
       "       [ 0,  1,  0,  0,  0,  0, -1,  0],\n",
       "       [ 0,  0,  0,  0,  0,  1, -1,  0],\n",
       "       [ 0,  0,  0,  1,  0,  0,  0,  0],\n",
       "       [ 0,  0,  0,  0,  1,  0,  0,  0],\n",
       "       [ 1,  0,  1,  0,  0,  0,  0,  1],\n",
       "       [ 0,  0,  1,  0,  0,  0,  0,  0],\n",
       "       [ 0,  0,  0, -1,  0,  0,  0, -2]], dtype=int32)"
      ]
     },
     "execution_count": 71,
     "metadata": {},
     "output_type": "execute_result"
    }
   ],
   "source": [
    "stock.astype('int32')"
   ]
  },
  {
   "cell_type": "code",
   "execution_count": 76,
   "id": "fe229177",
   "metadata": {},
   "outputs": [
    {
     "data": {
      "text/plain": [
       "b'\\xe2\\xa3\\xb9.\\xfa\\xc8\\xf8?\\x8c\\xc4A\\xfb8\\xaf\\xf9?\\x03\\x19<\\xfa|\\xa2\\xdf\\xbf\\xca,\\xe9p\\x93\\xb2\\xe3\\xbf!\\x05B\\x1a\\x0e\\xb8\\xf6\\xbf\\x1c\\xbd%\\x08\\xc0\\xcc\\xe2\\xbf\\xa2}\\xdd\\xbb\\xc3\\x01\\xde?Y\\xddz\\x80E\\xbc\\xb8\\xbf6C9\\xecK\\xf7\\xfb?\\xb0\\xf5V2\\xf0T\\xd1\\xbf\\xf0a\\xfaCH\\xae\\xcf?u\\x8b\\xcf\\xa0\\x0fT\\xee?`\\t\\\\uA7\\xf1?\\xa3\\xc5\\xc6\"v\\xaf\\xe9\\xbf\\xe3\\xb0\\x924XB\\xe4\\xbf\"\\xaeW\\xdfMl\\xde\\xbf&#\\'\\xa7\\x87\\xf6\\xf0?\\x90\\xacx\\xf7\\x87\\xc8\\xe1?4\\xd5\\xeb\\x0e7\\xc8\\xf3?Z\\xc5\\xf8h\\x9d\\x0c\\xc1?\\xee\\xda\\xb1\\xe7*\\xa2\\xf0\\xbfm7\\x1a[\\x1a+\\xe2?mE\\xe4\\xd0w\\xbb\\xdf\\xbf\\xb0\\xde\\xbd\\xc8><\\x02\\xc03\\xf2w\\xd6s\\xe1\\xeb\\xbfF\\x98T\\x18\\x85\\xfc\\xf2?M\\xc1N\\xea=\\x08\\xd2?v\\xad\\xe0\\x82\\xc8\\x95\\xd1?kq\\xa5\\xc6\\xc8q\\xe8\\xbf\\xda+\\xc4\\xf2\\x177\\xd3?^$&>pA\\xf8\\xbf\\x8f\\t\\xfa\\x93M\\xd1\\xb6?\\x1f\\x93=\\x94\\xdd9\\x99?}\\xd9S\\xe5=\\xe9\\xef?\\x18\\xc4\\xd3\"\\xf2\\xb4\\xb8\\xbf\\xab\\x1dh\\x12f\\n\\xee\\xbf\\xce\\x060~\\xc1+\\xdd?\\xf1]\\xf3\\xf4\\x06J\\xfd?V\\x12\\xcay\\x0e.\\xf3\\xbf\\xc2\\xaa2\\xae\\xd4\\x13\\xce?\\x9a=\\xb3\\xbf\\xea\\x15\\xe7\\xbfC\\xaa\\xdd\\xe9\\xe9\\x06\\xe7\\xbf\\xd9^k\\xff~8\\xec?\\xe2o\\xcc\\x11P=\\xf9?\\x89\\xf4]\\x03\\xd3{\\xcb\\xbf\\xc1\\xf4\\xd2^\\x10\\x8c\\xe0\\xbf\\xee\\xc6 \\r(\\xb0\\xb5\\xbfF/\\x14\\x01B\\xdc\\xd9?\\x04\\xcb\\x99\\x1b\\x1d-\\xe3?\\xba{C`K^\\xec\\xbfj\\x05\\n\\xc3Q/\\xea?I\\xa1\\x90\\xd5\\x860\\xb3?\\x9c\\x91\\xd0\\x9a\\xc2\\xc0\\xf4?\\xb5\\xe4%\\xd9g\\xb0\\xe2?o\\x0b\\x18 \\x86t\\xef?\\x00\\x82`\\xf7\\xc7\\x1e\\xe6?7z\\x07Q\\x87b\\xf3?\\xffq\\x81\\xe8N\\xb6\\xd7\\xbf#\\xab\\x15\\xa6\\xa6\\xca\\xf2?pv\\xa0\\xe1\\xc1l\\xd9\\xbf^\\xb2\\xd8\"0\\x8d\\xec\\xbf\\xc7\\x07\\x96R\\x97\\x19\\xef?\\xddh\\xf8\\xce\\xe9\\xe3\\xcf?\\xc7\\x8av\\xd1i\\n\\xf9?\\x89E\\x05\\xb7\\x00\\xab\\xc6\\xbf\\x06\\xf1\\xf2/\\xa8\\xc0\\xe1\\xbf\\x84\\x9d\\xc1\\xc3j#\\xf1?\\x02\\xb3!\\xcb\\xcf\\xa5\\xbe\\xbfky_K\\x1dZ\\xd6?\\xab\\xacw{\\xc7\\xe2\\xdc\\xbfI\\xca-\\x04\\xdbh\\xb1?\\x8c\\x14g\\xb1\\xce\\xfc\\xe2?\\x0c\\xa6\\xc8M\\x05(\\xec\\xbf\\x84\\x1a\\x8d\\xbd\\xcf\\xbc\\xe0?\\xf7\\x83\\xf6j\\xc0\\xb0\\xe1\\xbf\\xc2\\xd2\\xcd\\xfe*\\x8e\\xf2\\xbfwl1fX\\x9a\\xc8?\\xa2\\xcb\\xfa\\x97t\\xee\\xca\\xbfX\\xc6\\xf0\\x13\\xde\\xf4\\xef\\xbf1OE\\xc6T\\xc0\\x00\\xc0'"
      ]
     },
     "execution_count": 76,
     "metadata": {},
     "output_type": "execute_result"
    }
   ],
   "source": [
    "stock.tobytes()"
   ]
  },
  {
   "cell_type": "code",
   "execution_count": 77,
   "id": "2cf104ab",
   "metadata": {},
   "outputs": [
    {
     "name": "stderr",
     "output_type": "stream",
     "text": [
      "/var/folders/hy/gsml0fn50hl12k111ygdn6q80000gn/T/ipykernel_4139/2465334889.py:1: DeprecationWarning: tostring() is deprecated. Use tobytes() instead.\n",
      "  stock.tostring()\n"
     ]
    },
    {
     "data": {
      "text/plain": [
       "b'\\xe2\\xa3\\xb9.\\xfa\\xc8\\xf8?\\x8c\\xc4A\\xfb8\\xaf\\xf9?\\x03\\x19<\\xfa|\\xa2\\xdf\\xbf\\xca,\\xe9p\\x93\\xb2\\xe3\\xbf!\\x05B\\x1a\\x0e\\xb8\\xf6\\xbf\\x1c\\xbd%\\x08\\xc0\\xcc\\xe2\\xbf\\xa2}\\xdd\\xbb\\xc3\\x01\\xde?Y\\xddz\\x80E\\xbc\\xb8\\xbf6C9\\xecK\\xf7\\xfb?\\xb0\\xf5V2\\xf0T\\xd1\\xbf\\xf0a\\xfaCH\\xae\\xcf?u\\x8b\\xcf\\xa0\\x0fT\\xee?`\\t\\\\uA7\\xf1?\\xa3\\xc5\\xc6\"v\\xaf\\xe9\\xbf\\xe3\\xb0\\x924XB\\xe4\\xbf\"\\xaeW\\xdfMl\\xde\\xbf&#\\'\\xa7\\x87\\xf6\\xf0?\\x90\\xacx\\xf7\\x87\\xc8\\xe1?4\\xd5\\xeb\\x0e7\\xc8\\xf3?Z\\xc5\\xf8h\\x9d\\x0c\\xc1?\\xee\\xda\\xb1\\xe7*\\xa2\\xf0\\xbfm7\\x1a[\\x1a+\\xe2?mE\\xe4\\xd0w\\xbb\\xdf\\xbf\\xb0\\xde\\xbd\\xc8><\\x02\\xc03\\xf2w\\xd6s\\xe1\\xeb\\xbfF\\x98T\\x18\\x85\\xfc\\xf2?M\\xc1N\\xea=\\x08\\xd2?v\\xad\\xe0\\x82\\xc8\\x95\\xd1?kq\\xa5\\xc6\\xc8q\\xe8\\xbf\\xda+\\xc4\\xf2\\x177\\xd3?^$&>pA\\xf8\\xbf\\x8f\\t\\xfa\\x93M\\xd1\\xb6?\\x1f\\x93=\\x94\\xdd9\\x99?}\\xd9S\\xe5=\\xe9\\xef?\\x18\\xc4\\xd3\"\\xf2\\xb4\\xb8\\xbf\\xab\\x1dh\\x12f\\n\\xee\\xbf\\xce\\x060~\\xc1+\\xdd?\\xf1]\\xf3\\xf4\\x06J\\xfd?V\\x12\\xcay\\x0e.\\xf3\\xbf\\xc2\\xaa2\\xae\\xd4\\x13\\xce?\\x9a=\\xb3\\xbf\\xea\\x15\\xe7\\xbfC\\xaa\\xdd\\xe9\\xe9\\x06\\xe7\\xbf\\xd9^k\\xff~8\\xec?\\xe2o\\xcc\\x11P=\\xf9?\\x89\\xf4]\\x03\\xd3{\\xcb\\xbf\\xc1\\xf4\\xd2^\\x10\\x8c\\xe0\\xbf\\xee\\xc6 \\r(\\xb0\\xb5\\xbfF/\\x14\\x01B\\xdc\\xd9?\\x04\\xcb\\x99\\x1b\\x1d-\\xe3?\\xba{C`K^\\xec\\xbfj\\x05\\n\\xc3Q/\\xea?I\\xa1\\x90\\xd5\\x860\\xb3?\\x9c\\x91\\xd0\\x9a\\xc2\\xc0\\xf4?\\xb5\\xe4%\\xd9g\\xb0\\xe2?o\\x0b\\x18 \\x86t\\xef?\\x00\\x82`\\xf7\\xc7\\x1e\\xe6?7z\\x07Q\\x87b\\xf3?\\xffq\\x81\\xe8N\\xb6\\xd7\\xbf#\\xab\\x15\\xa6\\xa6\\xca\\xf2?pv\\xa0\\xe1\\xc1l\\xd9\\xbf^\\xb2\\xd8\"0\\x8d\\xec\\xbf\\xc7\\x07\\x96R\\x97\\x19\\xef?\\xddh\\xf8\\xce\\xe9\\xe3\\xcf?\\xc7\\x8av\\xd1i\\n\\xf9?\\x89E\\x05\\xb7\\x00\\xab\\xc6\\xbf\\x06\\xf1\\xf2/\\xa8\\xc0\\xe1\\xbf\\x84\\x9d\\xc1\\xc3j#\\xf1?\\x02\\xb3!\\xcb\\xcf\\xa5\\xbe\\xbfky_K\\x1dZ\\xd6?\\xab\\xacw{\\xc7\\xe2\\xdc\\xbfI\\xca-\\x04\\xdbh\\xb1?\\x8c\\x14g\\xb1\\xce\\xfc\\xe2?\\x0c\\xa6\\xc8M\\x05(\\xec\\xbf\\x84\\x1a\\x8d\\xbd\\xcf\\xbc\\xe0?\\xf7\\x83\\xf6j\\xc0\\xb0\\xe1\\xbf\\xc2\\xd2\\xcd\\xfe*\\x8e\\xf2\\xbfwl1fX\\x9a\\xc8?\\xa2\\xcb\\xfa\\x97t\\xee\\xca\\xbfX\\xc6\\xf0\\x13\\xde\\xf4\\xef\\xbf1OE\\xc6T\\xc0\\x00\\xc0'"
      ]
     },
     "execution_count": 77,
     "metadata": {},
     "output_type": "execute_result"
    }
   ],
   "source": [
    "stock.tostring()"
   ]
  },
  {
   "cell_type": "markdown",
   "id": "a28ae729",
   "metadata": {},
   "source": [
    "#### 数组去重\n",
    " - unique\n",
    " - set  仅一维"
   ]
  },
  {
   "cell_type": "code",
   "execution_count": 78,
   "id": "08329277",
   "metadata": {},
   "outputs": [],
   "source": [
    "temp = np.array([[1, 2, 3, 4],[3, 4, 5, 6]])"
   ]
  },
  {
   "cell_type": "code",
   "execution_count": 79,
   "id": "d51726c5",
   "metadata": {},
   "outputs": [
    {
     "data": {
      "text/plain": [
       "array([[1, 2, 3, 4],\n",
       "       [3, 4, 5, 6]])"
      ]
     },
     "execution_count": 79,
     "metadata": {},
     "output_type": "execute_result"
    }
   ],
   "source": [
    "temp"
   ]
  },
  {
   "cell_type": "code",
   "execution_count": 80,
   "id": "330aebd2",
   "metadata": {},
   "outputs": [
    {
     "data": {
      "text/plain": [
       "array([1, 2, 3, 4, 5, 6])"
      ]
     },
     "execution_count": 80,
     "metadata": {},
     "output_type": "execute_result"
    }
   ],
   "source": [
    "np.unique(temp)  # 去重复"
   ]
  },
  {
   "cell_type": "code",
   "execution_count": 81,
   "id": "73974fd4",
   "metadata": {},
   "outputs": [
    {
     "data": {
      "text/plain": [
       "array([1, 2, 3, 4, 3, 4, 5, 6])"
      ]
     },
     "execution_count": 81,
     "metadata": {},
     "output_type": "execute_result"
    }
   ],
   "source": [
    "temp.flatten() # 拍扁数据 再使用set ，python set类型是没有重复数据的"
   ]
  },
  {
   "cell_type": "code",
   "execution_count": 82,
   "id": "84f58679",
   "metadata": {},
   "outputs": [
    {
     "data": {
      "text/plain": [
       "{1, 2, 3, 4, 5, 6}"
      ]
     },
     "execution_count": 82,
     "metadata": {},
     "output_type": "execute_result"
    }
   ],
   "source": [
    "set(temp.flatten()) # "
   ]
  },
  {
   "cell_type": "markdown",
   "id": "a1ef4406",
   "metadata": {},
   "source": [
    "#### ndarray运算\n",
    "   - 逻辑运算，操作符合某一条件的数据\n",
    "      - 布尔索引\n",
    "      - 通用判断函数 \n",
    "        1. np.all(boolean),只要有一个False就返回False，只有全是True才返回True \n",
    "        2. np.any(),只要有一个True就返回True，只有全是False才返回False\n",
    "      - np.where(三元运算符)，np.where(布尔值, True的位置的值, False的位置的值)\n",
    "      - 复合逻辑需要结合np.logical_and和np.logical_or使用\n",
    "       \n",
    "   - 统计运算\n",
    "   - 数组间运算"
   ]
  },
  {
   "cell_type": "code",
   "execution_count": 83,
   "id": "cce3f99b",
   "metadata": {},
   "outputs": [],
   "source": [
    "stock_change=np.random.normal(loc=0,size=(8,10))"
   ]
  },
  {
   "cell_type": "code",
   "execution_count": 85,
   "id": "2f56734f",
   "metadata": {},
   "outputs": [
    {
     "data": {
      "text/plain": [
       "array([[-1.57660346,  0.38630035,  1.57062272,  0.32493944,  0.44771708,\n",
       "        -2.54091108,  0.08186954, -0.62725307, -0.6015358 ,  1.47137093],\n",
       "       [-2.87098386, -0.48574539, -0.64963449,  0.6100499 , -1.48867934,\n",
       "         1.43015878,  1.10036228, -2.10219294, -1.19077026, -0.06192587],\n",
       "       [ 1.10054229,  0.1457855 , -0.09044175,  0.16896359,  1.24937322,\n",
       "        -0.3023348 , -1.79407966,  1.10583598,  0.73687442, -0.06035059],\n",
       "       [ 0.91384205,  0.11916211, -0.83156781,  0.34056618,  0.31211228,\n",
       "        -0.63203519,  0.2346531 , -1.26888296,  0.69658188,  1.15556369],\n",
       "       [ 0.26786936, -0.45382115, -0.57081884, -0.21877069, -0.11726607,\n",
       "         0.51544308, -0.01643499,  1.56147871, -0.65316626,  0.58313039],\n",
       "       [ 1.0854488 , -0.30382298, -0.86697029, -0.43015238,  0.31311738,\n",
       "        -1.41827728, -0.2361424 , -1.68102702,  1.35615463, -0.2397912 ],\n",
       "       [ 1.07690577, -3.66901654, -0.00428326, -0.56931795,  1.06980578,\n",
       "        -0.43241336,  0.35113379, -0.09775963,  1.99317773, -0.1374051 ],\n",
       "       [-0.82154061,  0.89273173, -0.29994957, -0.78430459, -0.03827918,\n",
       "        -1.29976868, -0.41066097,  0.06607174,  0.21853759, -1.08821066]])"
      ]
     },
     "execution_count": 85,
     "metadata": {},
     "output_type": "execute_result"
    }
   ],
   "source": [
    "stock_change"
   ]
  },
  {
   "cell_type": "code",
   "execution_count": 86,
   "id": "31860978",
   "metadata": {},
   "outputs": [
    {
     "data": {
      "text/plain": [
       "array([[False, False,  True, False, False, False, False, False, False,\n",
       "         True],\n",
       "       [False, False, False,  True, False,  True,  True, False, False,\n",
       "        False],\n",
       "       [ True, False, False, False,  True, False, False,  True,  True,\n",
       "        False],\n",
       "       [ True, False, False, False, False, False, False, False,  True,\n",
       "         True],\n",
       "       [False, False, False, False, False,  True, False,  True, False,\n",
       "         True],\n",
       "       [ True, False, False, False, False, False, False, False,  True,\n",
       "        False],\n",
       "       [ True, False, False, False,  True, False, False, False,  True,\n",
       "        False],\n",
       "       [False,  True, False, False, False, False, False, False, False,\n",
       "        False]])"
      ]
     },
     "execution_count": 86,
     "metadata": {},
     "output_type": "execute_result"
    }
   ],
   "source": [
    "# 逻辑判断, 如果涨跌幅大于0.5就标记为True 否则为False\n",
    "stock_change>0.5"
   ]
  },
  {
   "cell_type": "code",
   "execution_count": 89,
   "id": "610bacd0",
   "metadata": {},
   "outputs": [],
   "source": [
    "# 布尔索引 将值大于0.5的 都设置为1.5\n",
    "stock_change[stock_change>0.5]=1.5"
   ]
  },
  {
   "cell_type": "code",
   "execution_count": 88,
   "id": "0c775162",
   "metadata": {},
   "outputs": [
    {
     "data": {
      "text/plain": [
       "array([[-1.57660346,  0.38630035,  1.5       ,  0.32493944,  0.44771708,\n",
       "        -2.54091108,  0.08186954, -0.62725307, -0.6015358 ,  1.5       ],\n",
       "       [-2.87098386, -0.48574539, -0.64963449,  1.5       , -1.48867934,\n",
       "         1.5       ,  1.5       , -2.10219294, -1.19077026, -0.06192587],\n",
       "       [ 1.5       ,  0.1457855 , -0.09044175,  0.16896359,  1.5       ,\n",
       "        -0.3023348 , -1.79407966,  1.5       ,  1.5       , -0.06035059],\n",
       "       [ 1.5       ,  0.11916211, -0.83156781,  0.34056618,  0.31211228,\n",
       "        -0.63203519,  0.2346531 , -1.26888296,  1.5       ,  1.5       ],\n",
       "       [ 0.26786936, -0.45382115, -0.57081884, -0.21877069, -0.11726607,\n",
       "         1.5       , -0.01643499,  1.5       , -0.65316626,  1.5       ],\n",
       "       [ 1.5       , -0.30382298, -0.86697029, -0.43015238,  0.31311738,\n",
       "        -1.41827728, -0.2361424 , -1.68102702,  1.5       , -0.2397912 ],\n",
       "       [ 1.5       , -3.66901654, -0.00428326, -0.56931795,  1.5       ,\n",
       "        -0.43241336,  0.35113379, -0.09775963,  1.5       , -0.1374051 ],\n",
       "       [-0.82154061,  1.5       , -0.29994957, -0.78430459, -0.03827918,\n",
       "        -1.29976868, -0.41066097,  0.06607174,  0.21853759, -1.08821066]])"
      ]
     },
     "execution_count": 88,
     "metadata": {},
     "output_type": "execute_result"
    }
   ],
   "source": [
    "stock_change"
   ]
  },
  {
   "cell_type": "code",
   "execution_count": 93,
   "id": "e1cf24e0",
   "metadata": {},
   "outputs": [
    {
     "data": {
      "text/plain": [
       "array([[False,  True,  True,  True,  True, False,  True, False, False,\n",
       "         True],\n",
       "       [False, False, False,  True, False,  True,  True, False, False,\n",
       "        False]])"
      ]
     },
     "execution_count": 93,
     "metadata": {},
     "output_type": "execute_result"
    }
   ],
   "source": [
    "# 通用判断函数 判断stock_change[0:2]是否全是上涨的\n",
    "stock_change[0:2]>0"
   ]
  },
  {
   "cell_type": "code",
   "execution_count": 95,
   "id": "5645817c",
   "metadata": {},
   "outputs": [
    {
     "data": {
      "text/plain": [
       "False"
      ]
     },
     "execution_count": 95,
     "metadata": {},
     "output_type": "execute_result"
    }
   ],
   "source": [
    "np.all(stock_change[0:2]>0) # 有假则假 全真则真"
   ]
  },
  {
   "cell_type": "code",
   "execution_count": 92,
   "id": "ff0aed2b",
   "metadata": {},
   "outputs": [
    {
     "data": {
      "text/plain": [
       "array([[-1.57660346,  0.38630035,  1.5       ,  0.32493944,  0.44771708,\n",
       "        -2.54091108,  0.08186954, -0.62725307, -0.6015358 ,  1.5       ],\n",
       "       [-2.87098386, -0.48574539, -0.64963449,  1.5       , -1.48867934,\n",
       "         1.5       ,  1.5       , -2.10219294, -1.19077026, -0.06192587],\n",
       "       [ 1.5       ,  0.1457855 , -0.09044175,  0.16896359,  1.5       ,\n",
       "        -0.3023348 , -1.79407966,  1.5       ,  1.5       , -0.06035059],\n",
       "       [ 1.5       ,  0.11916211, -0.83156781,  0.34056618,  0.31211228,\n",
       "        -0.63203519,  0.2346531 , -1.26888296,  1.5       ,  1.5       ],\n",
       "       [ 0.26786936, -0.45382115, -0.57081884, -0.21877069, -0.11726607,\n",
       "         1.5       , -0.01643499,  1.5       , -0.65316626,  1.5       ]])"
      ]
     },
     "execution_count": 92,
     "metadata": {},
     "output_type": "execute_result"
    }
   ],
   "source": [
    "stock_change[0:5]"
   ]
  },
  {
   "cell_type": "code",
   "execution_count": 96,
   "id": "5550824e",
   "metadata": {},
   "outputs": [
    {
     "data": {
      "text/plain": [
       "array([[-1.57660346,  0.38630035,  1.5       ,  0.32493944,  0.44771708,\n",
       "        -2.54091108,  0.08186954, -0.62725307, -0.6015358 ,  1.5       ],\n",
       "       [-2.87098386, -0.48574539, -0.64963449,  1.5       , -1.48867934,\n",
       "         1.5       ,  1.5       , -2.10219294, -1.19077026, -0.06192587],\n",
       "       [ 1.5       ,  0.1457855 , -0.09044175,  0.16896359,  1.5       ,\n",
       "        -0.3023348 , -1.79407966,  1.5       ,  1.5       , -0.06035059],\n",
       "       [ 1.5       ,  0.11916211, -0.83156781,  0.34056618,  0.31211228,\n",
       "        -0.63203519,  0.2346531 , -1.26888296,  1.5       ,  1.5       ],\n",
       "       [ 0.26786936, -0.45382115, -0.57081884, -0.21877069, -0.11726607,\n",
       "         1.5       , -0.01643499,  1.5       , -0.65316626,  1.5       ]])"
      ]
     },
     "execution_count": 96,
     "metadata": {},
     "output_type": "execute_result"
    }
   ],
   "source": [
    "stock_change[:5, :] "
   ]
  },
  {
   "cell_type": "code",
   "execution_count": 97,
   "id": "a19fad23",
   "metadata": {},
   "outputs": [
    {
     "data": {
      "text/plain": [
       "True"
      ]
     },
     "execution_count": 97,
     "metadata": {},
     "output_type": "execute_result"
    }
   ],
   "source": [
    "# 判断前5只股票这段期间是否有上涨的\n",
    "np.any(stock_change[0:5]>0) # 有真则真 全假则假"
   ]
  },
  {
   "cell_type": "markdown",
   "id": "eaef711f",
   "metadata": {},
   "source": [
    "#### np.where "
   ]
  },
  {
   "cell_type": "code",
   "execution_count": 101,
   "id": "c7b48be2",
   "metadata": {},
   "outputs": [
    {
     "data": {
      "text/plain": [
       "array([[-1.57660346,  0.38630035,  1.5       ,  0.32493944,  0.44771708,\n",
       "        -2.54091108,  0.08186954, -0.62725307, -0.6015358 ,  1.5       ],\n",
       "       [-2.87098386, -0.48574539, -0.64963449,  1.5       , -1.48867934,\n",
       "         1.5       ,  1.5       , -2.10219294, -1.19077026, -0.06192587],\n",
       "       [ 1.5       ,  0.1457855 , -0.09044175,  0.16896359,  1.5       ,\n",
       "        -0.3023348 , -1.79407966,  1.5       ,  1.5       , -0.06035059],\n",
       "       [ 1.5       ,  0.11916211, -0.83156781,  0.34056618,  0.31211228,\n",
       "        -0.63203519,  0.2346531 , -1.26888296,  1.5       ,  1.5       ]])"
      ]
     },
     "execution_count": 101,
     "metadata": {},
     "output_type": "execute_result"
    }
   ],
   "source": [
    "stock_change[:4] # stock_change[0:4]"
   ]
  },
  {
   "cell_type": "code",
   "execution_count": 106,
   "id": "6d13e209",
   "metadata": {},
   "outputs": [],
   "source": [
    "temp=stock_change[:4,:4] # stock_change[0:4,0:4]"
   ]
  },
  {
   "cell_type": "code",
   "execution_count": 107,
   "id": "8c9f71cd",
   "metadata": {},
   "outputs": [
    {
     "data": {
      "text/plain": [
       "array([[-1.57660346,  0.38630035,  1.5       ,  0.32493944,  0.44771708,\n",
       "        -2.54091108,  0.08186954, -0.62725307, -0.6015358 ,  1.5       ],\n",
       "       [-2.87098386, -0.48574539, -0.64963449,  1.5       , -1.48867934,\n",
       "         1.5       ,  1.5       , -2.10219294, -1.19077026, -0.06192587],\n",
       "       [ 1.5       ,  0.1457855 , -0.09044175,  0.16896359,  1.5       ,\n",
       "        -0.3023348 , -1.79407966,  1.5       ,  1.5       , -0.06035059],\n",
       "       [ 1.5       ,  0.11916211, -0.83156781,  0.34056618,  0.31211228,\n",
       "        -0.63203519,  0.2346531 , -1.26888296,  1.5       ,  1.5       ],\n",
       "       [ 0.26786936, -0.45382115, -0.57081884, -0.21877069, -0.11726607,\n",
       "         1.5       , -0.01643499,  1.5       , -0.65316626,  1.5       ],\n",
       "       [ 1.5       , -0.30382298, -0.86697029, -0.43015238,  0.31311738,\n",
       "        -1.41827728, -0.2361424 , -1.68102702,  1.5       , -0.2397912 ],\n",
       "       [ 1.5       , -3.66901654, -0.00428326, -0.56931795,  1.5       ,\n",
       "        -0.43241336,  0.35113379, -0.09775963,  1.5       , -0.1374051 ],\n",
       "       [-0.82154061,  1.5       , -0.29994957, -0.78430459, -0.03827918,\n",
       "        -1.29976868, -0.41066097,  0.06607174,  0.21853759, -1.08821066]])"
      ]
     },
     "execution_count": 107,
     "metadata": {},
     "output_type": "execute_result"
    }
   ],
   "source": [
    "stock_change"
   ]
  },
  {
   "cell_type": "code",
   "execution_count": 108,
   "id": "f5c0e457",
   "metadata": {},
   "outputs": [
    {
     "data": {
      "text/plain": [
       "array([[0, 1, 1, 1],\n",
       "       [0, 0, 0, 1],\n",
       "       [1, 1, 0, 1],\n",
       "       [1, 1, 0, 1]])"
      ]
     },
     "execution_count": 108,
     "metadata": {},
     "output_type": "execute_result"
    }
   ],
   "source": [
    "# 判断前四个股票前四天的涨跌幅 大于0的置为1，否则为0\n",
    "np.where(temp>0,1,0)"
   ]
  },
  {
   "cell_type": "code",
   "execution_count": 110,
   "id": "db9439d4",
   "metadata": {},
   "outputs": [
    {
     "data": {
      "text/plain": [
       "array([[False,  True,  True,  True],\n",
       "       [False, False, False,  True],\n",
       "       [ True,  True, False,  True],\n",
       "       [ True,  True, False,  True]])"
      ]
     },
     "execution_count": 110,
     "metadata": {},
     "output_type": "execute_result"
    }
   ],
   "source": [
    "temp>0"
   ]
  },
  {
   "cell_type": "code",
   "execution_count": 113,
   "id": "f5675a4c",
   "metadata": {},
   "outputs": [
    {
     "data": {
      "text/plain": [
       "array([[False, False, False, False],\n",
       "       [False, False, False, False],\n",
       "       [False, False, False, False],\n",
       "       [False, False, False, False]])"
      ]
     },
     "execution_count": 113,
     "metadata": {},
     "output_type": "execute_result"
    }
   ],
   "source": [
    "# 判断前四个股票前四天的涨跌幅 大于0.5并且小于1的，换为1，否则为\n",
    "# (temp > 0.5) and (temp < 1) 报错\n",
    "np.logical_and(temp > 0.5 ,temp < 1)"
   ]
  },
  {
   "cell_type": "code",
   "execution_count": 114,
   "id": "4eb026a4",
   "metadata": {},
   "outputs": [
    {
     "data": {
      "text/plain": [
       "array([[0, 0, 0, 0],\n",
       "       [0, 0, 0, 0],\n",
       "       [0, 0, 0, 0],\n",
       "       [0, 0, 0, 0]])"
      ]
     },
     "execution_count": 114,
     "metadata": {},
     "output_type": "execute_result"
    }
   ],
   "source": [
    "np.where([[False, False, False, False],\n",
    "       [False, False, False, False],\n",
    "       [False, False, False, False],\n",
    "       [False, False, False, False]], 1, 0)"
   ]
  },
  {
   "cell_type": "code",
   "execution_count": 116,
   "id": "2200a483",
   "metadata": {},
   "outputs": [
    {
     "data": {
      "text/plain": [
       "array([[0, 0, 0, 0],\n",
       "       [0, 0, 0, 0],\n",
       "       [0, 0, 0, 0],\n",
       "       [0, 0, 0, 0]])"
      ]
     },
     "execution_count": 116,
     "metadata": {},
     "output_type": "execute_result"
    }
   ],
   "source": [
    "np.where(np.logical_and(temp > 0.5, temp < 1), 1, 0) # 效果相同"
   ]
  },
  {
   "cell_type": "code",
   "execution_count": 117,
   "id": "71f00118",
   "metadata": {},
   "outputs": [
    {
     "data": {
      "text/plain": [
       "array([[ True,  True,  True,  True],\n",
       "       [ True,  True,  True,  True],\n",
       "       [ True,  True,  True,  True],\n",
       "       [ True,  True,  True,  True]])"
      ]
     },
     "execution_count": 117,
     "metadata": {},
     "output_type": "execute_result"
    }
   ],
   "source": [
    "# 判断前四个股票前四天的涨跌幅 大于0.5或者小于-0.5的，换为1，否则为0\n",
    "np.logical_or(temp>-0.5,temp<0.5)"
   ]
  },
  {
   "cell_type": "code",
   "execution_count": 118,
   "id": "501925a1",
   "metadata": {},
   "outputs": [
    {
     "data": {
      "text/plain": [
       "array([[1, 1, 1, 1],\n",
       "       [1, 1, 1, 1],\n",
       "       [1, 1, 1, 1],\n",
       "       [1, 1, 1, 1]])"
      ]
     },
     "execution_count": 118,
     "metadata": {},
     "output_type": "execute_result"
    }
   ],
   "source": [
    "np.where(np.logical_or(temp>-0.5,temp<0.5),1,0)"
   ]
  },
  {
   "cell_type": "markdown",
   "id": "5b1ec3f5",
   "metadata": {},
   "source": [
    "#### 统计运算\n",
    "   - 统计指标函数\n",
    "      1. min, max, mean, median, var, std\n",
    "      2. np.函数名\n",
    "      3. ndarray.方法名\n",
    "   - 返回最大值、最小值所在位置\n",
    "      1. np.argmax(temp, axis=)\n",
    "      2. np.argmin(temp, axis=)"
   ]
  },
  {
   "cell_type": "code",
   "execution_count": 119,
   "id": "d31a6bba",
   "metadata": {},
   "outputs": [
    {
     "data": {
      "text/plain": [
       "array([[-1.57660346,  0.38630035,  1.5       ,  0.32493944],\n",
       "       [-2.87098386, -0.48574539, -0.64963449,  1.5       ],\n",
       "       [ 1.5       ,  0.1457855 , -0.09044175,  0.16896359],\n",
       "       [ 1.5       ,  0.11916211, -0.83156781,  0.34056618]])"
      ]
     },
     "execution_count": 119,
     "metadata": {},
     "output_type": "execute_result"
    }
   ],
   "source": [
    "temp"
   ]
  },
  {
   "cell_type": "code",
   "execution_count": 120,
   "id": "bdbd7da1",
   "metadata": {},
   "outputs": [
    {
     "data": {
      "text/plain": [
       "1.5"
      ]
     },
     "execution_count": 120,
     "metadata": {},
     "output_type": "execute_result"
    }
   ],
   "source": [
    "# 前四只股票前四天的最大涨幅\n",
    "temp.max()"
   ]
  },
  {
   "cell_type": "code",
   "execution_count": 121,
   "id": "c34362d0",
   "metadata": {},
   "outputs": [
    {
     "data": {
      "text/plain": [
       "1.5"
      ]
     },
     "execution_count": 121,
     "metadata": {},
     "output_type": "execute_result"
    }
   ],
   "source": [
    "np.max(temp)"
   ]
  },
  {
   "cell_type": "code",
   "execution_count": 122,
   "id": "d210c450",
   "metadata": {},
   "outputs": [
    {
     "data": {
      "text/plain": [
       "array([1.5       , 0.38630035, 1.5       , 1.5       ])"
      ]
     },
     "execution_count": 122,
     "metadata": {},
     "output_type": "execute_result"
    }
   ],
   "source": [
    "#  按行 按列 求最大\n",
    "temp.max(axis=0) # 按列"
   ]
  },
  {
   "cell_type": "code",
   "execution_count": 123,
   "id": "32af226d",
   "metadata": {},
   "outputs": [
    {
     "data": {
      "text/plain": [
       "array([1.5, 1.5, 1.5, 1.5])"
      ]
     },
     "execution_count": 123,
     "metadata": {},
     "output_type": "execute_result"
    }
   ],
   "source": [
    "temp.max(axis=1) # 按列"
   ]
  },
  {
   "cell_type": "code",
   "execution_count": 125,
   "id": "bc9ce3f9",
   "metadata": {},
   "outputs": [
    {
     "data": {
      "text/plain": [
       "array([2, 0, 0, 1])"
      ]
     },
     "execution_count": 125,
     "metadata": {},
     "output_type": "execute_result"
    }
   ],
   "source": [
    "# 返回最大值位置\n",
    "np.argmax(temp,axis=0)"
   ]
  },
  {
   "cell_type": "code",
   "execution_count": 126,
   "id": "8a0a2144",
   "metadata": {},
   "outputs": [
    {
     "data": {
      "text/plain": [
       "array([0, 0, 2, 2])"
      ]
     },
     "execution_count": 126,
     "metadata": {},
     "output_type": "execute_result"
    }
   ],
   "source": [
    "np.argmin(temp,axis=1)"
   ]
  },
  {
   "cell_type": "markdown",
   "id": "b0c0ceda",
   "metadata": {},
   "source": [
    "#### 数组间运算"
   ]
  },
  {
   "cell_type": "code",
   "execution_count": 127,
   "id": "731c0f60",
   "metadata": {},
   "outputs": [],
   "source": [
    "arr1 = np.array([[1, 2, 3, 2, 1, 4], [5, 6, 1, 2, 3, 1]])\n",
    "arr2 = np.array([[1, 2, 3, 4], [3, 4, 5, 6]])"
   ]
  },
  {
   "cell_type": "code",
   "execution_count": 131,
   "id": "e8e8ff0e",
   "metadata": {},
   "outputs": [
    {
     "data": {
      "text/plain": [
       "array([[1, 2, 3, 4],\n",
       "       [3, 4, 5, 6]])"
      ]
     },
     "execution_count": 131,
     "metadata": {},
     "output_type": "execute_result"
    }
   ],
   "source": [
    "arr2"
   ]
  },
  {
   "cell_type": "code",
   "execution_count": 130,
   "id": "2fa5f0a8",
   "metadata": {},
   "outputs": [
    {
     "data": {
      "text/plain": [
       "array([[1, 2, 3, 2, 1, 4],\n",
       "       [5, 6, 1, 2, 3, 1]])"
      ]
     },
     "execution_count": 130,
     "metadata": {},
     "output_type": "execute_result"
    }
   ],
   "source": [
    "arr1"
   ]
  },
  {
   "cell_type": "code",
   "execution_count": 129,
   "id": "7c4b2f09",
   "metadata": {},
   "outputs": [
    {
     "data": {
      "text/plain": [
       "array([[11, 12, 13, 12, 11, 14],\n",
       "       [15, 16, 11, 12, 13, 11]])"
      ]
     },
     "execution_count": 129,
     "metadata": {},
     "output_type": "execute_result"
    }
   ],
   "source": [
    "arr1+10"
   ]
  },
  {
   "cell_type": "code",
   "execution_count": 132,
   "id": "c8555cf9",
   "metadata": {},
   "outputs": [],
   "source": [
    "a=[1,23,4,5,6,7]"
   ]
  },
  {
   "cell_type": "code",
   "execution_count": 134,
   "id": "e6b5cbbc",
   "metadata": {},
   "outputs": [
    {
     "ename": "TypeError",
     "evalue": "can only concatenate list (not \"int\") to list",
     "output_type": "error",
     "traceback": [
      "\u001b[0;31m---------------------------------------------------------------------------\u001b[0m",
      "\u001b[0;31mTypeError\u001b[0m                                 Traceback (most recent call last)",
      "Input \u001b[0;32mIn [134]\u001b[0m, in \u001b[0;36m<cell line: 1>\u001b[0;34m()\u001b[0m\n\u001b[0;32m----> 1\u001b[0m \u001b[43ma\u001b[49m\u001b[38;5;241;43m+\u001b[39;49m\u001b[38;5;241;43m1\u001b[39;49m\n",
      "\u001b[0;31mTypeError\u001b[0m: can only concatenate list (not \"int\") to list"
     ]
    }
   ],
   "source": [
    "a+1 # 报错 需要写for循环"
   ]
  },
  {
   "cell_type": "code",
   "execution_count": 137,
   "id": "e95e573f",
   "metadata": {},
   "outputs": [
    {
     "ename": "ValueError",
     "evalue": "operands could not be broadcast together with shapes (2,6) (2,4) ",
     "output_type": "error",
     "traceback": [
      "\u001b[0;31m---------------------------------------------------------------------------\u001b[0m",
      "\u001b[0;31mValueError\u001b[0m                                Traceback (most recent call last)",
      "Input \u001b[0;32mIn [137]\u001b[0m, in \u001b[0;36m<cell line: 1>\u001b[0;34m()\u001b[0m\n\u001b[0;32m----> 1\u001b[0m \u001b[43marr1\u001b[49m\u001b[38;5;241;43m+\u001b[39;49m\u001b[43marr2\u001b[49m\n",
      "\u001b[0;31mValueError\u001b[0m: operands could not be broadcast together with shapes (2,6) (2,4) "
     ]
    }
   ],
   "source": [
    "# arr1+arr2 # 报错 广播机制"
   ]
  },
  {
   "cell_type": "code",
   "execution_count": 141,
   "id": "1ccdf6e1",
   "metadata": {},
   "outputs": [],
   "source": [
    "# 可以进行运算\n",
    "arr_3 = np.array([[1, 2, 3, 2, 1, 4], [5, 6, 1, 2, 3, 1]])\n",
    "arr_4 = np.array([[1], [3]])"
   ]
  },
  {
   "cell_type": "code",
   "execution_count": 143,
   "id": "6731e1ab",
   "metadata": {},
   "outputs": [
    {
     "data": {
      "text/plain": [
       "array([[1, 2, 3, 2, 1, 4],\n",
       "       [5, 6, 1, 2, 3, 1]])"
      ]
     },
     "execution_count": 143,
     "metadata": {},
     "output_type": "execute_result"
    }
   ],
   "source": [
    "arr_3 # (2,6)"
   ]
  },
  {
   "cell_type": "code",
   "execution_count": 145,
   "id": "a6e11496",
   "metadata": {},
   "outputs": [
    {
     "data": {
      "text/plain": [
       "array([[1],\n",
       "       [3]])"
      ]
     },
     "execution_count": 145,
     "metadata": {},
     "output_type": "execute_result"
    }
   ],
   "source": [
    "arr_4 # (2,1)"
   ]
  },
  {
   "cell_type": "code",
   "execution_count": 146,
   "id": "820089fd",
   "metadata": {},
   "outputs": [
    {
     "data": {
      "text/plain": [
       "array([[2, 3, 4, 3, 2, 5],\n",
       "       [8, 9, 4, 5, 6, 4]])"
      ]
     },
     "execution_count": 146,
     "metadata": {},
     "output_type": "execute_result"
    }
   ],
   "source": [
    "arr_3+arr_4"
   ]
  },
  {
   "cell_type": "code",
   "execution_count": 147,
   "id": "4827a752",
   "metadata": {},
   "outputs": [
    {
     "data": {
      "text/plain": [
       "array([[ 1,  2,  3,  2,  1,  4],\n",
       "       [15, 18,  3,  6,  9,  3]])"
      ]
     },
     "execution_count": 147,
     "metadata": {},
     "output_type": "execute_result"
    }
   ],
   "source": [
    "arr_3*arr_4"
   ]
  },
  {
   "cell_type": "code",
   "execution_count": 148,
   "id": "7c10ff38",
   "metadata": {},
   "outputs": [
    {
     "data": {
      "text/plain": [
       "array([[1.        , 2.        , 3.        , 2.        , 1.        ,\n",
       "        4.        ],\n",
       "       [1.66666667, 2.        , 0.33333333, 0.66666667, 1.        ,\n",
       "        0.33333333]])"
      ]
     },
     "execution_count": 148,
     "metadata": {},
     "output_type": "execute_result"
    }
   ],
   "source": [
    "arr_3/arr_4"
   ]
  },
  {
   "cell_type": "markdown",
   "id": "6363678f",
   "metadata": {},
   "source": [
    "####  矩阵运算\n",
    "  - 什么是矩阵\n",
    "     - 矩阵matrix 二维数组\n",
    "     - 矩阵 & 二维数组\n",
    "     - 两种方法存储矩阵\n",
    "       1. ndarray 二维数组，矩阵乘法，np.matmul，np.dot\n",
    "       2. matrix数据结构\n",
    "  - 矩阵乘法运算\n",
    "                形状\n",
    "                    (m, n) * (n, l) = (m, l)\n",
    "                运算规则\n",
    "                    A (2, 3) B(3, 2)\n",
    "                    A * B = (2, 2)"
   ]
  },
  {
   "cell_type": "code",
   "execution_count": 149,
   "id": "b350cf10",
   "metadata": {},
   "outputs": [],
   "source": [
    "# ndarray存储矩阵 \n",
    "data = np.array([[80, 86],\n",
    "[82, 80],\n",
    "[85, 78],\n",
    "[90, 90],\n",
    "[86, 82],\n",
    "[82, 90],\n",
    "[78, 80],\n",
    "[92, 94]])"
   ]
  },
  {
   "cell_type": "code",
   "execution_count": 150,
   "id": "d9622cea",
   "metadata": {},
   "outputs": [
    {
     "data": {
      "text/plain": [
       "array([[80, 86],\n",
       "       [82, 80],\n",
       "       [85, 78],\n",
       "       [90, 90],\n",
       "       [86, 82],\n",
       "       [82, 90],\n",
       "       [78, 80],\n",
       "       [92, 94]])"
      ]
     },
     "execution_count": 150,
     "metadata": {},
     "output_type": "execute_result"
    }
   ],
   "source": [
    "data"
   ]
  },
  {
   "cell_type": "code",
   "execution_count": 151,
   "id": "2f163a9a",
   "metadata": {},
   "outputs": [],
   "source": [
    "# matrix存储矩阵\n",
    "data_mat = np.mat([[80, 86],\n",
    "[82, 80],\n",
    "[85, 78],\n",
    "[90, 90],\n",
    "[86, 82],\n",
    "[82, 90],\n",
    "[78, 80],\n",
    "[92, 94]])"
   ]
  },
  {
   "cell_type": "code",
   "execution_count": 152,
   "id": "5800d111",
   "metadata": {},
   "outputs": [
    {
     "data": {
      "text/plain": [
       "matrix([[80, 86],\n",
       "        [82, 80],\n",
       "        [85, 78],\n",
       "        [90, 90],\n",
       "        [86, 82],\n",
       "        [82, 90],\n",
       "        [78, 80],\n",
       "        [92, 94]])"
      ]
     },
     "execution_count": 152,
     "metadata": {},
     "output_type": "execute_result"
    }
   ],
   "source": [
    "data_mat"
   ]
  },
  {
   "cell_type": "code",
   "execution_count": 153,
   "id": "9dc32f6e",
   "metadata": {},
   "outputs": [
    {
     "data": {
      "text/plain": [
       "numpy.matrix"
      ]
     },
     "execution_count": 153,
     "metadata": {},
     "output_type": "execute_result"
    }
   ],
   "source": [
    "type(data_mat)"
   ]
  },
  {
   "cell_type": "code",
   "execution_count": 154,
   "id": "60d76003",
   "metadata": {},
   "outputs": [
    {
     "data": {
      "text/plain": [
       "numpy.ndarray"
      ]
     },
     "execution_count": 154,
     "metadata": {},
     "output_type": "execute_result"
    }
   ],
   "source": [
    "type(data)"
   ]
  },
  {
   "cell_type": "code",
   "execution_count": 156,
   "id": "710f6034",
   "metadata": {},
   "outputs": [],
   "source": [
    "weights=np.array([[0.3],[0.7]]) # 分数权重"
   ]
  },
  {
   "cell_type": "code",
   "execution_count": 157,
   "id": "a67186b6",
   "metadata": {},
   "outputs": [
    {
     "data": {
      "text/plain": [
       "array([[0.3],\n",
       "       [0.7]])"
      ]
     },
     "execution_count": 157,
     "metadata": {},
     "output_type": "execute_result"
    }
   ],
   "source": [
    "weights"
   ]
  },
  {
   "cell_type": "code",
   "execution_count": 158,
   "id": "b53297dc",
   "metadata": {},
   "outputs": [],
   "source": [
    "weight_max=np.mat([[0.3],[0.7]])"
   ]
  },
  {
   "cell_type": "code",
   "execution_count": 159,
   "id": "2bc4d3f2",
   "metadata": {},
   "outputs": [
    {
     "data": {
      "text/plain": [
       "matrix([[0.3],\n",
       "        [0.7]])"
      ]
     },
     "execution_count": 159,
     "metadata": {},
     "output_type": "execute_result"
    }
   ],
   "source": [
    "weight_max"
   ]
  },
  {
   "cell_type": "code",
   "execution_count": 160,
   "id": "c34527d8",
   "metadata": {},
   "outputs": [
    {
     "data": {
      "text/plain": [
       "array([[80, 86],\n",
       "       [82, 80],\n",
       "       [85, 78],\n",
       "       [90, 90],\n",
       "       [86, 82],\n",
       "       [82, 90],\n",
       "       [78, 80],\n",
       "       [92, 94]])"
      ]
     },
     "execution_count": 160,
     "metadata": {},
     "output_type": "execute_result"
    }
   ],
   "source": [
    "data"
   ]
  },
  {
   "cell_type": "code",
   "execution_count": 161,
   "id": "561341c6",
   "metadata": {},
   "outputs": [
    {
     "data": {
      "text/plain": [
       "array([[0.3],\n",
       "       [0.7]])"
      ]
     },
     "execution_count": 161,
     "metadata": {},
     "output_type": "execute_result"
    }
   ],
   "source": [
    "weights"
   ]
  },
  {
   "cell_type": "code",
   "execution_count": 162,
   "id": "d06d5395",
   "metadata": {},
   "outputs": [
    {
     "data": {
      "text/plain": [
       "array([[84.2],\n",
       "       [80.6],\n",
       "       [80.1],\n",
       "       [90. ],\n",
       "       [83.2],\n",
       "       [87.6],\n",
       "       [79.4],\n",
       "       [93.4]])"
      ]
     },
     "execution_count": 162,
     "metadata": {},
     "output_type": "execute_result"
    }
   ],
   "source": [
    "#计算加权分数\n",
    "np.matmul(data,weights) #  点乘 矩阵运算"
   ]
  },
  {
   "cell_type": "code",
   "execution_count": 163,
   "id": "a44dd924",
   "metadata": {},
   "outputs": [
    {
     "data": {
      "text/plain": [
       "array([[84.2],\n",
       "       [80.6],\n",
       "       [80.1],\n",
       "       [90. ],\n",
       "       [83.2],\n",
       "       [87.6],\n",
       "       [79.4],\n",
       "       [93.4]])"
      ]
     },
     "execution_count": 163,
     "metadata": {},
     "output_type": "execute_result"
    }
   ],
   "source": [
    "np.dot(data,weights)"
   ]
  },
  {
   "cell_type": "code",
   "execution_count": 164,
   "id": "8b6adbe4",
   "metadata": {},
   "outputs": [
    {
     "data": {
      "text/plain": [
       "matrix([[84.2],\n",
       "        [80.6],\n",
       "        [80.1],\n",
       "        [90. ],\n",
       "        [83.2],\n",
       "        [87.6],\n",
       "        [79.4],\n",
       "        [93.4]])"
      ]
     },
     "execution_count": 164,
     "metadata": {},
     "output_type": "execute_result"
    }
   ],
   "source": [
    "data_mat*weights"
   ]
  },
  {
   "cell_type": "code",
   "execution_count": 165,
   "id": "796ea887",
   "metadata": {},
   "outputs": [
    {
     "data": {
      "text/plain": [
       "array([[84.2],\n",
       "       [80.6],\n",
       "       [80.1],\n",
       "       [90. ],\n",
       "       [83.2],\n",
       "       [87.6],\n",
       "       [79.4],\n",
       "       [93.4]])"
      ]
     },
     "execution_count": 165,
     "metadata": {},
     "output_type": "execute_result"
    }
   ],
   "source": [
    "data @ weights"
   ]
  },
  {
   "cell_type": "code",
   "execution_count": 166,
   "id": "0e4e02cf",
   "metadata": {},
   "outputs": [
    {
     "data": {
      "text/plain": [
       "array([[80, 86],\n",
       "       [82, 80],\n",
       "       [85, 78],\n",
       "       [90, 90],\n",
       "       [86, 82],\n",
       "       [82, 90],\n",
       "       [78, 80],\n",
       "       [92, 94]])"
      ]
     },
     "execution_count": 166,
     "metadata": {},
     "output_type": "execute_result"
    }
   ],
   "source": [
    "data"
   ]
  },
  {
   "cell_type": "code",
   "execution_count": 167,
   "id": "16e1db73",
   "metadata": {},
   "outputs": [
    {
     "data": {
      "text/plain": [
       "array([[0.3],\n",
       "       [0.7]])"
      ]
     },
     "execution_count": 167,
     "metadata": {},
     "output_type": "execute_result"
    }
   ],
   "source": [
    "weights"
   ]
  },
  {
   "cell_type": "code",
   "execution_count": 169,
   "id": "f5aa4015",
   "metadata": {},
   "outputs": [],
   "source": [
    "# data * weights 报错 不满足广播机制 不能进行运算"
   ]
  },
  {
   "cell_type": "markdown",
   "id": "ebee017a",
   "metadata": {},
   "source": [
    "#### 合并"
   ]
  },
  {
   "cell_type": "code",
   "execution_count": null,
   "id": "b7e605af",
   "metadata": {},
   "outputs": [],
   "source": []
  },
  {
   "cell_type": "code",
   "execution_count": null,
   "id": "1cf25c51",
   "metadata": {},
   "outputs": [],
   "source": []
  },
  {
   "cell_type": "code",
   "execution_count": null,
   "id": "97e52751",
   "metadata": {},
   "outputs": [],
   "source": []
  },
  {
   "cell_type": "code",
   "execution_count": null,
   "id": "7f20fba1",
   "metadata": {},
   "outputs": [],
   "source": []
  },
  {
   "cell_type": "code",
   "execution_count": null,
   "id": "14a5472a",
   "metadata": {},
   "outputs": [],
   "source": []
  },
  {
   "cell_type": "code",
   "execution_count": null,
   "id": "e540c7d9",
   "metadata": {},
   "outputs": [],
   "source": []
  },
  {
   "cell_type": "code",
   "execution_count": null,
   "id": "e6210c3d",
   "metadata": {},
   "outputs": [],
   "source": []
  },
  {
   "cell_type": "code",
   "execution_count": null,
   "id": "fbd655b0",
   "metadata": {},
   "outputs": [],
   "source": []
  },
  {
   "cell_type": "code",
   "execution_count": null,
   "id": "2427092f",
   "metadata": {},
   "outputs": [],
   "source": []
  },
  {
   "cell_type": "code",
   "execution_count": null,
   "id": "7bbe6614",
   "metadata": {},
   "outputs": [],
   "source": []
  }
 ],
 "metadata": {
  "kernelspec": {
   "display_name": "Python 3 (ipykernel)",
   "language": "python",
   "name": "python3"
  },
  "language_info": {
   "codemirror_mode": {
    "name": "ipython",
    "version": 3
   },
   "file_extension": ".py",
   "mimetype": "text/x-python",
   "name": "python",
   "nbconvert_exporter": "python",
   "pygments_lexer": "ipython3",
   "version": "3.8.13"
  }
 },
 "nbformat": 4,
 "nbformat_minor": 5
}
