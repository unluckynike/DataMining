{
 "cells": [
  {
   "cell_type": "code",
   "execution_count": 1,
   "id": "5389e87b",
   "metadata": {},
   "outputs": [],
   "source": [
    "import numpy as np"
   ]
  },
  {
   "cell_type": "code",
   "execution_count": 2,
   "id": "966d755d",
   "metadata": {},
   "outputs": [],
   "source": [
    "# 分数数据\n",
    "socre=np.array([[80, 89, 86, 67, 79], \n",
    "[78, 97, 89, 67, 81],\n",
    "[90, 94, 78, 67, 74],\n",
    "[91, 91, 90, 67, 69],\n",
    "[76, 87, 75, 67, 86],\n",
    "[70, 79, 84, 67, 84],\n",
    "[94, 92, 93, 67, 64],\n",
    "[86, 85, 83, 67, 80]])"
   ]
  },
  {
   "cell_type": "code",
   "execution_count": 3,
   "id": "ddbcccb8",
   "metadata": {},
   "outputs": [
    {
     "data": {
      "text/plain": [
       "array([[80, 89, 86, 67, 79],\n",
       "       [78, 97, 89, 67, 81],\n",
       "       [90, 94, 78, 67, 74],\n",
       "       [91, 91, 90, 67, 69],\n",
       "       [76, 87, 75, 67, 86],\n",
       "       [70, 79, 84, 67, 84],\n",
       "       [94, 92, 93, 67, 64],\n",
       "       [86, 85, 83, 67, 80]])"
      ]
     },
     "execution_count": 3,
     "metadata": {},
     "output_type": "execute_result"
    }
   ],
   "source": [
    "socre"
   ]
  },
  {
   "cell_type": "code",
   "execution_count": 4,
   "id": "1379ee8b",
   "metadata": {},
   "outputs": [
    {
     "data": {
      "text/plain": [
       "numpy.ndarray"
      ]
     },
     "execution_count": 4,
     "metadata": {},
     "output_type": "execute_result"
    }
   ],
   "source": [
    "type(socre) # 查看数据类型"
   ]
  },
  {
   "cell_type": "markdown",
   "id": "e9a2ba02",
   "metadata": {},
   "source": [
    "#### ndarray与Python原生list运算效率对比\n",
    "  numpy专门对ndarray的操作和运算进行了设计，所以数组的存储效率和输入输出性能远远优于python中的嵌套列表，数组越大，numpy的优势越明显\n",
    "##### ndarray 优势原因\n",
    " - 存储风格   ndarray - 相同类型 - 通用性不强，  list - 不同类型 - 通用性很强\n",
    " - 并行化运算  ndarray支持向量化运算\n",
    " - 底层语言  C语言，内部解除了GIL"
   ]
  },
  {
   "cell_type": "code",
   "execution_count": 12,
   "id": "f9f2feb6",
   "metadata": {},
   "outputs": [
    {
     "name": "stdout",
     "output_type": "stream",
     "text": [
      "a len:  100000000\n",
      "a time : 1.7814080715179443, b time : 0.14223599433898926\n"
     ]
    }
   ],
   "source": [
    "import random\n",
    "import time\n",
    "import numpy as np\n",
    "\n",
    "a=[] \n",
    "\n",
    "for i in range(100000000): \n",
    "  a.append(random.random()) # 随机生成一亿个数\n",
    "print('a len: ',len(a))\n",
    "\n",
    "t1=time.time()\n",
    "sum1=sum(a)\n",
    "t2=time.time()\n",
    "time_a=t2-t1 #  计算运算时间\n",
    "\n",
    "b=np.array(a) # ndarray的计算速度要快很多，节约时间\n",
    "t3=time.time()\n",
    "sum2=np.sum(b)\n",
    "t4=time.time()\n",
    "time_b=t4-t3\n",
    "\n",
    "print(f'a time : {time_a}, b time : {time_b}')"
   ]
  },
  {
   "cell_type": "markdown",
   "id": "331e7f50",
   "metadata": {},
   "source": [
    "#### ndarray的属性\n",
    "  - shape  数组维度的元组\n",
    "     - ndim 数组维度\n",
    "     - size 数组中的元素数量\n",
    "  - dtype  数组元素的类型\n",
    "     - itemsize 一个数组元素的长度（字节）"
   ]
  },
  {
   "cell_type": "code",
   "execution_count": 14,
   "id": "735ca047",
   "metadata": {},
   "outputs": [
    {
     "data": {
      "text/plain": [
       "(8, 5)"
      ]
     },
     "execution_count": 14,
     "metadata": {},
     "output_type": "execute_result"
    }
   ],
   "source": [
    "socre.shape # 8行5列"
   ]
  },
  {
   "cell_type": "code",
   "execution_count": 15,
   "id": "ab2d2ca7",
   "metadata": {},
   "outputs": [
    {
     "data": {
      "text/plain": [
       "2"
      ]
     },
     "execution_count": 15,
     "metadata": {},
     "output_type": "execute_result"
    }
   ],
   "source": [
    "socre.ndim"
   ]
  },
  {
   "cell_type": "code",
   "execution_count": 16,
   "id": "b9a5d5eb",
   "metadata": {},
   "outputs": [
    {
     "data": {
      "text/plain": [
       "40"
      ]
     },
     "execution_count": 16,
     "metadata": {},
     "output_type": "execute_result"
    }
   ],
   "source": [
    "socre.size"
   ]
  },
  {
   "cell_type": "code",
   "execution_count": 17,
   "id": "21a01c5c",
   "metadata": {},
   "outputs": [
    {
     "data": {
      "text/plain": [
       "dtype('int64')"
      ]
     },
     "execution_count": 17,
     "metadata": {},
     "output_type": "execute_result"
    }
   ],
   "source": [
    "socre.dtype # 在创建ndarray的时候，如果没有指定类型  默认整数 int64, 浮点数 float64"
   ]
  },
  {
   "cell_type": "code",
   "execution_count": 18,
   "id": "d815f326",
   "metadata": {},
   "outputs": [
    {
     "data": {
      "text/plain": [
       "8"
      ]
     },
     "execution_count": 18,
     "metadata": {},
     "output_type": "execute_result"
    }
   ],
   "source": [
    "socre.itemsize"
   ]
  },
  {
   "cell_type": "markdown",
   "id": "129c0ea4",
   "metadata": {},
   "source": [
    "#### ndarray的形状"
   ]
  },
  {
   "cell_type": "code",
   "execution_count": 20,
   "id": "2b28ebf2",
   "metadata": {},
   "outputs": [],
   "source": [
    "a = np.array([[1,2,3],[4,5,6]])\n",
    "b = np.array([1,2,3,4])\n",
    "c = np.array([[[1,2,3],[4,5,6]],[[1,2,3],[4,5,6]]])"
   ]
  },
  {
   "cell_type": "code",
   "execution_count": 21,
   "id": "8ce6cd59",
   "metadata": {},
   "outputs": [
    {
     "data": {
      "text/plain": [
       "array([[1, 2, 3],\n",
       "       [4, 5, 6]])"
      ]
     },
     "execution_count": 21,
     "metadata": {},
     "output_type": "execute_result"
    }
   ],
   "source": [
    "a #（2，3）  二维 两行三列"
   ]
  },
  {
   "cell_type": "code",
   "execution_count": 22,
   "id": "9be75717",
   "metadata": {},
   "outputs": [
    {
     "data": {
      "text/plain": [
       "array([1, 2, 3, 4])"
      ]
     },
     "execution_count": 22,
     "metadata": {},
     "output_type": "execute_result"
    }
   ],
   "source": [
    "b #（4，） 一维"
   ]
  },
  {
   "cell_type": "code",
   "execution_count": 23,
   "id": "96df49eb",
   "metadata": {},
   "outputs": [
    {
     "data": {
      "text/plain": [
       "array([[[1, 2, 3],\n",
       "        [4, 5, 6]],\n",
       "\n",
       "       [[1, 2, 3],\n",
       "        [4, 5, 6]]])"
      ]
     },
     "execution_count": 23,
     "metadata": {},
     "output_type": "execute_result"
    }
   ],
   "source": [
    "c #（2，2，3）  三个中括号 三维 "
   ]
  },
  {
   "cell_type": "code",
   "execution_count": 24,
   "id": "f11ea462",
   "metadata": {},
   "outputs": [
    {
     "data": {
      "text/plain": [
       "(2, 2, 3)"
      ]
     },
     "execution_count": 24,
     "metadata": {},
     "output_type": "execute_result"
    }
   ],
   "source": [
    "a.shape"
   ]
  },
  {
   "cell_type": "code",
   "execution_count": 25,
   "id": "c1cebfa2",
   "metadata": {},
   "outputs": [
    {
     "data": {
      "text/plain": [
       "(4,)"
      ]
     },
     "execution_count": 25,
     "metadata": {},
     "output_type": "execute_result"
    }
   ],
   "source": [
    "b.shape"
   ]
  },
  {
   "cell_type": "code",
   "execution_count": 26,
   "id": "f3c043dc",
   "metadata": {},
   "outputs": [
    {
     "data": {
      "text/plain": [
       "(2, 2, 3)"
      ]
     },
     "execution_count": 26,
     "metadata": {},
     "output_type": "execute_result"
    }
   ],
   "source": [
    "c.shape"
   ]
  },
  {
   "cell_type": "markdown",
   "id": "eaa15b27",
   "metadata": {},
   "source": [
    "#### ndarray 类型"
   ]
  },
  {
   "cell_type": "code",
   "execution_count": 27,
   "id": "ebb7ae29",
   "metadata": {},
   "outputs": [],
   "source": [
    "data = np.array([1.1, 2.2, 3.3]) #  若不指定 默认float64"
   ]
  },
  {
   "cell_type": "code",
   "execution_count": 28,
   "id": "aa7fb68d",
   "metadata": {},
   "outputs": [
    {
     "data": {
      "text/plain": [
       "array([1.1, 2.2, 3.3])"
      ]
     },
     "execution_count": 28,
     "metadata": {},
     "output_type": "execute_result"
    }
   ],
   "source": [
    "data"
   ]
  },
  {
   "cell_type": "code",
   "execution_count": 30,
   "id": "6a0a77c9",
   "metadata": {},
   "outputs": [
    {
     "data": {
      "text/plain": [
       "dtype('float64')"
      ]
     },
     "execution_count": 30,
     "metadata": {},
     "output_type": "execute_result"
    }
   ],
   "source": [
    "data.dtype"
   ]
  },
  {
   "cell_type": "code",
   "execution_count": 31,
   "id": "49e622cc",
   "metadata": {},
   "outputs": [
    {
     "data": {
      "text/plain": [
       "array([1.1, 2.2, 3.3], dtype=float32)"
      ]
     },
     "execution_count": 31,
     "metadata": {},
     "output_type": "execute_result"
    }
   ],
   "source": [
    "# 创建指定类型的\n",
    "np.array([1.1,2.2,3.3],dtype=\"float32\")"
   ]
  },
  {
   "cell_type": "code",
   "execution_count": 33,
   "id": "d728e32d",
   "metadata": {},
   "outputs": [
    {
     "data": {
      "text/plain": [
       "array([1.1, 2.2, 3.3], dtype=float32)"
      ]
     },
     "execution_count": 33,
     "metadata": {},
     "output_type": "execute_result"
    }
   ],
   "source": [
    "np.array([1.1,2.2,3.3],dtype=np.float32)"
   ]
  },
  {
   "cell_type": "code",
   "execution_count": null,
   "id": "1b97e904",
   "metadata": {},
   "outputs": [],
   "source": []
  },
  {
   "cell_type": "code",
   "execution_count": null,
   "id": "a18a7801",
   "metadata": {},
   "outputs": [],
   "source": []
  },
  {
   "cell_type": "code",
   "execution_count": null,
   "id": "fb69adc6",
   "metadata": {},
   "outputs": [],
   "source": []
  },
  {
   "cell_type": "code",
   "execution_count": null,
   "id": "b320565a",
   "metadata": {},
   "outputs": [],
   "source": []
  },
  {
   "cell_type": "code",
   "execution_count": null,
   "id": "2e91b82f",
   "metadata": {},
   "outputs": [],
   "source": []
  }
 ],
 "metadata": {
  "kernelspec": {
   "display_name": "Python 3 (ipykernel)",
   "language": "python",
   "name": "python3"
  },
  "language_info": {
   "codemirror_mode": {
    "name": "ipython",
    "version": 3
   },
   "file_extension": ".py",
   "mimetype": "text/x-python",
   "name": "python",
   "nbconvert_exporter": "python",
   "pygments_lexer": "ipython3",
   "version": "3.8.13"
  }
 },
 "nbformat": 4,
 "nbformat_minor": 5
}
